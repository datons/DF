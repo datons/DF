{
 "cells": [
  {
   "attachments": {},
   "cell_type": "markdown",
   "id": "f11662ea-4d56-46eb-9507-0a4cb8d1baf2",
   "metadata": {
    "papermill": {
     "duration": 0.004486,
     "end_time": "2024-11-07T15:32:59.594622",
     "exception": false,
     "start_time": "2024-11-07T15:32:59.590136",
     "status": "completed"
    },
    "tags": []
   },
   "source": [
    "# Pivot tables by categories for analysis"
   ]
  },
  {
   "cell_type": "markdown",
   "id": "8d0f1e2b",
   "metadata": {
    "papermill": {
     "duration": 0.002855,
     "end_time": "2024-11-07T15:32:59.605107",
     "exception": false,
     "start_time": "2024-11-07T15:32:59.602252",
     "status": "completed"
    },
    "tags": []
   },
   "source": [
    "[**See `pivot_table` instructions**](https://datons.craft.me/h3f5pSQSE7l6RW) to complete the following exercises."
   ]
  },
  {
   "attachments": {},
   "cell_type": "markdown",
   "id": "959c996b-bbc5-4653-9369-3c267d9f050a",
   "metadata": {
    "papermill": {
     "duration": 0.00243,
     "end_time": "2024-11-07T15:32:59.609843",
     "exception": false,
     "start_time": "2024-11-07T15:32:59.607413",
     "status": "completed"
    },
    "tags": []
   },
   "source": [
    "## Load dataset"
   ]
  },
  {
   "cell_type": "code",
   "execution_count": 1,
   "id": "3aee990d-1e64-4718-9572-1e7fe5dc32ed",
   "metadata": {
    "execution": {
     "iopub.execute_input": "2024-11-07T15:32:59.614364Z",
     "iopub.status.busy": "2024-11-07T15:32:59.614145Z",
     "iopub.status.idle": "2024-11-07T15:33:01.994404Z",
     "shell.execute_reply": "2024-11-07T15:33:01.994075Z"
    },
    "papermill": {
     "duration": 2.383785,
     "end_time": "2024-11-07T15:33:01.995400",
     "exception": false,
     "start_time": "2024-11-07T15:32:59.611615",
     "status": "completed"
    },
    "tags": [
     "change-false"
    ]
   },
   "outputs": [],
   "source": [
    "import seaborn as sns\n",
    "\n",
    "df_titanic = sns.load_dataset('titanic').loc[:,['alive', 'class', 'sex', 'age', 'fare']]\n",
    "df_titanic['class'] = df_titanic['class'].astype(str)"
   ]
  },
  {
   "cell_type": "code",
   "execution_count": 2,
   "id": "7a94a855-2f07-4607-9842-04bd94e89e71",
   "metadata": {
    "execution": {
     "iopub.execute_input": "2024-11-07T15:33:01.999383Z",
     "iopub.status.busy": "2024-11-07T15:33:01.999104Z",
     "iopub.status.idle": "2024-11-07T15:33:02.005365Z",
     "shell.execute_reply": "2024-11-07T15:33:02.005164Z"
    },
    "papermill": {
     "duration": 0.008895,
     "end_time": "2024-11-07T15:33:02.006066",
     "exception": false,
     "start_time": "2024-11-07T15:33:01.997171",
     "status": "completed"
    },
    "tags": []
   },
   "outputs": [
    {
     "data": {
      "text/html": [
       "<div>\n",
       "<style scoped>\n",
       "    .dataframe tbody tr th:only-of-type {\n",
       "        vertical-align: middle;\n",
       "    }\n",
       "\n",
       "    .dataframe tbody tr th {\n",
       "        vertical-align: top;\n",
       "    }\n",
       "\n",
       "    .dataframe thead th {\n",
       "        text-align: right;\n",
       "    }\n",
       "</style>\n",
       "<table border=\"1\" class=\"dataframe\">\n",
       "  <thead>\n",
       "    <tr style=\"text-align: right;\">\n",
       "      <th></th>\n",
       "      <th>alive</th>\n",
       "      <th>class</th>\n",
       "      <th>sex</th>\n",
       "      <th>age</th>\n",
       "      <th>fare</th>\n",
       "    </tr>\n",
       "  </thead>\n",
       "  <tbody>\n",
       "    <tr>\n",
       "      <th>0</th>\n",
       "      <td>no</td>\n",
       "      <td>Third</td>\n",
       "      <td>male</td>\n",
       "      <td>22.0</td>\n",
       "      <td>7.2500</td>\n",
       "    </tr>\n",
       "    <tr>\n",
       "      <th>1</th>\n",
       "      <td>yes</td>\n",
       "      <td>First</td>\n",
       "      <td>female</td>\n",
       "      <td>38.0</td>\n",
       "      <td>71.2833</td>\n",
       "    </tr>\n",
       "    <tr>\n",
       "      <th>...</th>\n",
       "      <td>...</td>\n",
       "      <td>...</td>\n",
       "      <td>...</td>\n",
       "      <td>...</td>\n",
       "      <td>...</td>\n",
       "    </tr>\n",
       "    <tr>\n",
       "      <th>889</th>\n",
       "      <td>yes</td>\n",
       "      <td>First</td>\n",
       "      <td>male</td>\n",
       "      <td>26.0</td>\n",
       "      <td>30.0000</td>\n",
       "    </tr>\n",
       "    <tr>\n",
       "      <th>890</th>\n",
       "      <td>no</td>\n",
       "      <td>Third</td>\n",
       "      <td>male</td>\n",
       "      <td>32.0</td>\n",
       "      <td>7.7500</td>\n",
       "    </tr>\n",
       "  </tbody>\n",
       "</table>\n",
       "<p>891 rows × 5 columns</p>\n",
       "</div>"
      ],
      "text/plain": [
       "    alive  class     sex   age     fare\n",
       "0      no  Third    male  22.0   7.2500\n",
       "1     yes  First  female  38.0  71.2833\n",
       "..    ...    ...     ...   ...      ...\n",
       "889   yes  First    male  26.0  30.0000\n",
       "890    no  Third    male  32.0   7.7500\n",
       "\n",
       "[891 rows x 5 columns]"
      ]
     },
     "execution_count": 2,
     "metadata": {},
     "output_type": "execute_result"
    }
   ],
   "source": [
    "df_titanic"
   ]
  },
  {
   "attachments": {},
   "cell_type": "markdown",
   "id": "f11e1235-b437-4565-b649-0dcd728e778b",
   "metadata": {
    "papermill": {
     "duration": 0.001318,
     "end_time": "2024-11-07T15:33:02.008671",
     "exception": false,
     "start_time": "2024-11-07T15:33:02.007353",
     "status": "completed"
    },
    "tags": []
   },
   "source": [
    "## 1 categorical variable"
   ]
  },
  {
   "attachments": {},
   "cell_type": "markdown",
   "id": "fc88af27",
   "metadata": {
    "papermill": {
     "duration": 0.001205,
     "end_time": "2024-11-07T15:33:02.011121",
     "exception": false,
     "start_time": "2024-11-07T15:33:02.009916",
     "status": "completed"
    },
    "tags": [
     "custom-exericse"
    ]
   },
   "source": [
    "**Exercise:** Average  `fare` paid by `sex`."
   ]
  },
  {
   "cell_type": "code",
   "execution_count": 3,
   "id": "556b7c14-3c5e-4907-a211-59b545a2ee28",
   "metadata": {
    "execution": {
     "iopub.execute_input": "2024-11-07T15:33:02.014282Z",
     "iopub.status.busy": "2024-11-07T15:33:02.014172Z",
     "iopub.status.idle": "2024-11-07T15:33:02.020091Z",
     "shell.execute_reply": "2024-11-07T15:33:02.019820Z"
    },
    "papermill": {
     "duration": 0.008644,
     "end_time": "2024-11-07T15:33:02.020922",
     "exception": false,
     "start_time": "2024-11-07T15:33:02.012278",
     "status": "completed"
    },
    "tags": []
   },
   "outputs": [
    {
     "data": {
      "text/html": [
       "<div>\n",
       "<style scoped>\n",
       "    .dataframe tbody tr th:only-of-type {\n",
       "        vertical-align: middle;\n",
       "    }\n",
       "\n",
       "    .dataframe tbody tr th {\n",
       "        vertical-align: top;\n",
       "    }\n",
       "\n",
       "    .dataframe thead th {\n",
       "        text-align: right;\n",
       "    }\n",
       "</style>\n",
       "<table border=\"1\" class=\"dataframe\">\n",
       "  <thead>\n",
       "    <tr style=\"text-align: right;\">\n",
       "      <th></th>\n",
       "      <th>fare</th>\n",
       "    </tr>\n",
       "    <tr>\n",
       "      <th>sex</th>\n",
       "      <th></th>\n",
       "    </tr>\n",
       "  </thead>\n",
       "  <tbody>\n",
       "    <tr>\n",
       "      <th>female</th>\n",
       "      <td>44.479818</td>\n",
       "    </tr>\n",
       "    <tr>\n",
       "      <th>male</th>\n",
       "      <td>25.523893</td>\n",
       "    </tr>\n",
       "  </tbody>\n",
       "</table>\n",
       "</div>"
      ],
      "text/plain": [
       "             fare\n",
       "sex              \n",
       "female  44.479818\n",
       "male    25.523893"
      ]
     },
     "execution_count": 3,
     "metadata": {},
     "output_type": "execute_result"
    }
   ],
   "source": [
    "df_titanic.pivot_table(index='sex', values='fare', aggfunc='mean')"
   ]
  },
  {
   "cell_type": "markdown",
   "id": "3141fc9b",
   "metadata": {
    "papermill": {
     "duration": 0.001127,
     "end_time": "2024-11-07T15:33:02.023406",
     "exception": false,
     "start_time": "2024-11-07T15:33:02.022279",
     "status": "completed"
    },
    "tags": []
   },
   "source": [
    "---"
   ]
  },
  {
   "attachments": {},
   "cell_type": "markdown",
   "id": "46f8ed36-a4da-490e-b391-684038f9bb79",
   "metadata": {
    "papermill": {
     "duration": 0.001133,
     "end_time": "2024-11-07T15:33:02.025677",
     "exception": false,
     "start_time": "2024-11-07T15:33:02.024544",
     "status": "completed"
    },
    "tags": []
   },
   "source": [
    "## 2 categorical variables"
   ]
  },
  {
   "attachments": {},
   "cell_type": "markdown",
   "id": "41322701",
   "metadata": {
    "papermill": {
     "duration": 0.001062,
     "end_time": "2024-11-07T15:33:02.027768",
     "exception": false,
     "start_time": "2024-11-07T15:33:02.026706",
     "status": "completed"
    },
    "tags": [
     "custom-exercise"
    ]
   },
   "source": [
    "**Exercise:** Who paid more, on average, to go on the Titanic based on `class` and `sex`?"
   ]
  },
  {
   "cell_type": "code",
   "execution_count": 4,
   "id": "47944835-576d-4446-b9e5-f2187ef035dd",
   "metadata": {
    "execution": {
     "iopub.execute_input": "2024-11-07T15:33:02.030484Z",
     "iopub.status.busy": "2024-11-07T15:33:02.030364Z",
     "iopub.status.idle": "2024-11-07T15:33:02.037003Z",
     "shell.execute_reply": "2024-11-07T15:33:02.036767Z"
    },
    "papermill": {
     "duration": 0.008927,
     "end_time": "2024-11-07T15:33:02.037723",
     "exception": false,
     "start_time": "2024-11-07T15:33:02.028796",
     "status": "completed"
    },
    "tags": []
   },
   "outputs": [
    {
     "data": {
      "text/html": [
       "<div>\n",
       "<style scoped>\n",
       "    .dataframe tbody tr th:only-of-type {\n",
       "        vertical-align: middle;\n",
       "    }\n",
       "\n",
       "    .dataframe tbody tr th {\n",
       "        vertical-align: top;\n",
       "    }\n",
       "\n",
       "    .dataframe thead th {\n",
       "        text-align: right;\n",
       "    }\n",
       "</style>\n",
       "<table border=\"1\" class=\"dataframe\">\n",
       "  <thead>\n",
       "    <tr style=\"text-align: right;\">\n",
       "      <th>class</th>\n",
       "      <th>First</th>\n",
       "      <th>Second</th>\n",
       "      <th>Third</th>\n",
       "    </tr>\n",
       "    <tr>\n",
       "      <th>sex</th>\n",
       "      <th></th>\n",
       "      <th></th>\n",
       "      <th></th>\n",
       "    </tr>\n",
       "  </thead>\n",
       "  <tbody>\n",
       "    <tr>\n",
       "      <th>female</th>\n",
       "      <td>106.125798</td>\n",
       "      <td>21.970121</td>\n",
       "      <td>16.118810</td>\n",
       "    </tr>\n",
       "    <tr>\n",
       "      <th>male</th>\n",
       "      <td>67.226127</td>\n",
       "      <td>19.741782</td>\n",
       "      <td>12.661633</td>\n",
       "    </tr>\n",
       "  </tbody>\n",
       "</table>\n",
       "</div>"
      ],
      "text/plain": [
       "class        First     Second      Third\n",
       "sex                                     \n",
       "female  106.125798  21.970121  16.118810\n",
       "male     67.226127  19.741782  12.661633"
      ]
     },
     "execution_count": 4,
     "metadata": {},
     "output_type": "execute_result"
    }
   ],
   "source": [
    "df_titanic.pivot_table(index='sex', columns='class', values='fare', aggfunc='mean')"
   ]
  },
  {
   "attachments": {},
   "cell_type": "markdown",
   "id": "9bfaefcd-5583-48b0-a572-e6fe2941c6f3",
   "metadata": {
    "papermill": {
     "duration": 0.001171,
     "end_time": "2024-11-07T15:33:02.040182",
     "exception": false,
     "start_time": "2024-11-07T15:33:02.039011",
     "status": "completed"
    },
    "tags": []
   },
   "source": [
    "## 3 categorical variables"
   ]
  },
  {
   "attachments": {},
   "cell_type": "markdown",
   "id": "5d7f18cd",
   "metadata": {
    "papermill": {
     "duration": 0.001129,
     "end_time": "2024-11-07T15:33:02.042379",
     "exception": false,
     "start_time": "2024-11-07T15:33:02.041250",
     "status": "completed"
    },
    "tags": [
     "custom-exercise"
    ]
   },
   "source": [
    "**Exercise:** Who paid more, on average, to go on the Titanic based on `class`, `sex` and `alive`?"
   ]
  },
  {
   "cell_type": "code",
   "execution_count": 5,
   "id": "5dba0640",
   "metadata": {
    "execution": {
     "iopub.execute_input": "2024-11-07T15:33:02.045059Z",
     "iopub.status.busy": "2024-11-07T15:33:02.044954Z",
     "iopub.status.idle": "2024-11-07T15:33:02.050545Z",
     "shell.execute_reply": "2024-11-07T15:33:02.050298Z"
    },
    "papermill": {
     "duration": 0.007799,
     "end_time": "2024-11-07T15:33:02.051245",
     "exception": false,
     "start_time": "2024-11-07T15:33:02.043446",
     "status": "completed"
    },
    "tags": []
   },
   "outputs": [
    {
     "data": {
      "text/html": [
       "<div>\n",
       "<style scoped>\n",
       "    .dataframe tbody tr th:only-of-type {\n",
       "        vertical-align: middle;\n",
       "    }\n",
       "\n",
       "    .dataframe tbody tr th {\n",
       "        vertical-align: top;\n",
       "    }\n",
       "\n",
       "    .dataframe thead th {\n",
       "        text-align: right;\n",
       "    }\n",
       "</style>\n",
       "<table border=\"1\" class=\"dataframe\">\n",
       "  <thead>\n",
       "    <tr style=\"text-align: right;\">\n",
       "      <th></th>\n",
       "      <th>class</th>\n",
       "      <th>First</th>\n",
       "      <th>Second</th>\n",
       "      <th>Third</th>\n",
       "    </tr>\n",
       "    <tr>\n",
       "      <th>sex</th>\n",
       "      <th>alive</th>\n",
       "      <th></th>\n",
       "      <th></th>\n",
       "      <th></th>\n",
       "    </tr>\n",
       "  </thead>\n",
       "  <tbody>\n",
       "    <tr>\n",
       "      <th rowspan=\"2\" valign=\"top\">female</th>\n",
       "      <th>no</th>\n",
       "      <td>110.604167</td>\n",
       "      <td>18.250000</td>\n",
       "      <td>19.773093</td>\n",
       "    </tr>\n",
       "    <tr>\n",
       "      <th>yes</th>\n",
       "      <td>105.978159</td>\n",
       "      <td>22.288989</td>\n",
       "      <td>12.464526</td>\n",
       "    </tr>\n",
       "    <tr>\n",
       "      <th rowspan=\"2\" valign=\"top\">male</th>\n",
       "      <th>no</th>\n",
       "      <td>62.894910</td>\n",
       "      <td>19.488965</td>\n",
       "      <td>12.204469</td>\n",
       "    </tr>\n",
       "    <tr>\n",
       "      <th>yes</th>\n",
       "      <td>74.637320</td>\n",
       "      <td>21.095100</td>\n",
       "      <td>15.579696</td>\n",
       "    </tr>\n",
       "  </tbody>\n",
       "</table>\n",
       "</div>"
      ],
      "text/plain": [
       "class              First     Second      Third\n",
       "sex    alive                                  \n",
       "female no     110.604167  18.250000  19.773093\n",
       "       yes    105.978159  22.288989  12.464526\n",
       "male   no      62.894910  19.488965  12.204469\n",
       "       yes     74.637320  21.095100  15.579696"
      ]
     },
     "execution_count": 5,
     "metadata": {},
     "output_type": "execute_result"
    }
   ],
   "source": [
    "df_titanic.pivot_table(index=['sex', 'alive'], columns='class', values='fare', aggfunc='mean')"
   ]
  },
  {
   "cell_type": "markdown",
   "id": "2b11ce8d",
   "metadata": {
    "papermill": {
     "duration": 0.001202,
     "end_time": "2024-11-07T15:33:02.053584",
     "exception": false,
     "start_time": "2024-11-07T15:33:02.052382",
     "status": "completed"
    },
    "tags": []
   },
   "source": [
    "## Real life applications\n",
    "\n",
    "- [Which country has more billionaires wealth by industry?](https://datons.ai/style-pandas-pivot-table-to-create-heat-matrix/)\n",
    "- [Which hour-month generates more electricy in a solar plant?](https://datons.ai/temporal-column-manipulation-with-pandas/)"
   ]
  }
 ],
 "metadata": {
  "kernelspec": {
   "display_name": "Python 3 (ipykernel)",
   "language": "python",
   "name": "python3"
  },
  "language_info": {
   "codemirror_mode": {
    "name": "ipython",
    "version": 3
   },
   "file_extension": ".py",
   "mimetype": "text/x-python",
   "name": "python",
   "nbconvert_exporter": "python",
   "pygments_lexer": "ipython3",
   "version": "3.12.3"
  },
  "papermill": {
   "default_parameters": {},
   "duration": 3.485468,
   "end_time": "2024-11-07T15:33:02.270656",
   "environment_variables": {},
   "exception": null,
   "input_path": "/Users/sota/Library/CloudStorage/Dropbox-datons/Training/2 Areas/Course Repos GitHub/repos/dev/DF/workbook/10_Aggregate/1_Pivot Tables/1C_Options.ipynb",
   "output_path": "/Users/sota/Library/CloudStorage/Dropbox-datons/Training/2 Areas/Course Repos GitHub/repos/dev/DF/workbook/10_Aggregate/1_Pivot Tables/1C_Options.ipynb",
   "parameters": {},
   "start_time": "2024-11-07T15:32:58.785188",
   "version": "2.5.0"
  },
  "toc-autonumbering": true
 },
 "nbformat": 4,
 "nbformat_minor": 5
}