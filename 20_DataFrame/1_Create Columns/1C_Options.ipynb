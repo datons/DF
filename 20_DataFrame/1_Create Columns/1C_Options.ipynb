{
 "cells": [
  {
   "cell_type": "markdown",
   "id": "47483703",
   "metadata": {
    "papermill": {
     "duration": 0.0028,
     "end_time": "2024-11-07T15:33:14.385473",
     "exception": false,
     "start_time": "2024-11-07T15:33:14.382673",
     "status": "completed"
    },
    "tags": []
   },
   "source": [
    "# Create new columns in DataFrame"
   ]
  },
  {
   "cell_type": "markdown",
   "id": "b46c4869",
   "metadata": {
    "papermill": {
     "duration": 0.00169,
     "end_time": "2024-11-07T15:33:14.389351",
     "exception": false,
     "start_time": "2024-11-07T15:33:14.387661",
     "status": "completed"
    },
    "tags": []
   },
   "source": [
    "## Load dataset"
   ]
  },
  {
   "cell_type": "code",
   "execution_count": 1,
   "id": "1c044344",
   "metadata": {
    "execution": {
     "iopub.execute_input": "2024-11-07T15:33:14.393652Z",
     "iopub.status.busy": "2024-11-07T15:33:14.393440Z",
     "iopub.status.idle": "2024-11-07T15:33:14.824342Z",
     "shell.execute_reply": "2024-11-07T15:33:14.823971Z"
    },
    "papermill": {
     "duration": 0.433942,
     "end_time": "2024-11-07T15:33:14.825177",
     "exception": false,
     "start_time": "2024-11-07T15:33:14.391235",
     "status": "completed"
    },
    "tags": []
   },
   "outputs": [
    {
     "data": {
      "text/html": [
       "<div>\n",
       "<style scoped>\n",
       "    .dataframe tbody tr th:only-of-type {\n",
       "        vertical-align: middle;\n",
       "    }\n",
       "\n",
       "    .dataframe tbody tr th {\n",
       "        vertical-align: top;\n",
       "    }\n",
       "\n",
       "    .dataframe thead th {\n",
       "        text-align: right;\n",
       "    }\n",
       "</style>\n",
       "<table border=\"1\" class=\"dataframe\">\n",
       "  <thead>\n",
       "    <tr style=\"text-align: right;\">\n",
       "      <th></th>\n",
       "      <th>price</th>\n",
       "      <th>energy</th>\n",
       "    </tr>\n",
       "    <tr>\n",
       "      <th>datetime</th>\n",
       "      <th></th>\n",
       "      <th></th>\n",
       "    </tr>\n",
       "  </thead>\n",
       "  <tbody>\n",
       "    <tr>\n",
       "      <th>2023-01-01 00:00:00</th>\n",
       "      <td>0.00</td>\n",
       "      <td>14039.8</td>\n",
       "    </tr>\n",
       "    <tr>\n",
       "      <th>2023-01-01 01:00:00</th>\n",
       "      <td>0.00</td>\n",
       "      <td>13581.2</td>\n",
       "    </tr>\n",
       "    <tr>\n",
       "      <th>...</th>\n",
       "      <td>...</td>\n",
       "      <td>...</td>\n",
       "    </tr>\n",
       "    <tr>\n",
       "      <th>2023-12-31 22:00:00</th>\n",
       "      <td>74.74</td>\n",
       "      <td>13223.4</td>\n",
       "    </tr>\n",
       "    <tr>\n",
       "      <th>2023-12-31 23:00:00</th>\n",
       "      <td>71.96</td>\n",
       "      <td>12659.1</td>\n",
       "    </tr>\n",
       "  </tbody>\n",
       "</table>\n",
       "<p>8760 rows × 2 columns</p>\n",
       "</div>"
      ],
      "text/plain": [
       "                     price   energy\n",
       "datetime                           \n",
       "2023-01-01 00:00:00   0.00  14039.8\n",
       "2023-01-01 01:00:00   0.00  13581.2\n",
       "...                    ...      ...\n",
       "2023-12-31 22:00:00  74.74  13223.4\n",
       "2023-12-31 23:00:00  71.96  12659.1\n",
       "\n",
       "[8760 rows x 2 columns]"
      ]
     },
     "execution_count": 1,
     "metadata": {},
     "output_type": "execute_result"
    }
   ],
   "source": [
    "import pandas as pd\n",
    "\n",
    "path = '../../../data/topics/energy/consumption/2023.parquet'\n",
    "df = pd.read_parquet(path)\n",
    "df"
   ]
  },
  {
   "cell_type": "markdown",
   "id": "1370b3b4",
   "metadata": {
    "papermill": {
     "duration": 0.001292,
     "end_time": "2024-11-07T15:33:14.828148",
     "exception": false,
     "start_time": "2024-11-07T15:33:14.826856",
     "status": "completed"
    },
    "tags": []
   },
   "source": [
    "## Cost"
   ]
  },
  {
   "cell_type": "markdown",
   "id": "8164fbca",
   "metadata": {
    "papermill": {
     "duration": 0.001629,
     "end_time": "2024-11-07T15:33:14.831609",
     "exception": false,
     "start_time": "2024-11-07T15:33:14.829980",
     "status": "completed"
    },
    "tags": []
   },
   "source": [
    "### Calculate from columns"
   ]
  },
  {
   "cell_type": "code",
   "execution_count": 2,
   "id": "0f657770",
   "metadata": {
    "execution": {
     "iopub.execute_input": "2024-11-07T15:33:14.835072Z",
     "iopub.status.busy": "2024-11-07T15:33:14.834952Z",
     "iopub.status.idle": "2024-11-07T15:33:14.836973Z",
     "shell.execute_reply": "2024-11-07T15:33:14.836746Z"
    },
    "papermill": {
     "duration": 0.00441,
     "end_time": "2024-11-07T15:33:14.837790",
     "exception": false,
     "start_time": "2024-11-07T15:33:14.833380",
     "status": "completed"
    },
    "tags": []
   },
   "outputs": [],
   "source": [
    "new_column = df['price'] * df['energy']"
   ]
  },
  {
   "cell_type": "code",
   "execution_count": 3,
   "id": "76ba87df",
   "metadata": {
    "execution": {
     "iopub.execute_input": "2024-11-07T15:33:14.841113Z",
     "iopub.status.busy": "2024-11-07T15:33:14.841004Z",
     "iopub.status.idle": "2024-11-07T15:33:14.843571Z",
     "shell.execute_reply": "2024-11-07T15:33:14.843354Z"
    },
    "papermill": {
     "duration": 0.005167,
     "end_time": "2024-11-07T15:33:14.844356",
     "exception": false,
     "start_time": "2024-11-07T15:33:14.839189",
     "status": "completed"
    },
    "tags": []
   },
   "outputs": [
    {
     "data": {
      "text/plain": [
       "datetime\n",
       "2023-01-01 00:00:00         0.000\n",
       "2023-01-01 01:00:00         0.000\n",
       "                          ...    \n",
       "2023-12-31 22:00:00    988316.916\n",
       "2023-12-31 23:00:00    910948.836\n",
       "Length: 8760, dtype: float64"
      ]
     },
     "execution_count": 3,
     "metadata": {},
     "output_type": "execute_result"
    }
   ],
   "source": [
    "new_column"
   ]
  },
  {
   "cell_type": "markdown",
   "id": "34fa8e83",
   "metadata": {
    "papermill": {
     "duration": 0.001212,
     "end_time": "2024-11-07T15:33:14.846888",
     "exception": false,
     "start_time": "2024-11-07T15:33:14.845676",
     "status": "completed"
    },
    "tags": []
   },
   "source": [
    "### Add new column to DataFrame"
   ]
  },
  {
   "cell_type": "code",
   "execution_count": 4,
   "id": "e1d31ea4",
   "metadata": {
    "execution": {
     "iopub.execute_input": "2024-11-07T15:33:14.849656Z",
     "iopub.status.busy": "2024-11-07T15:33:14.849466Z",
     "iopub.status.idle": "2024-11-07T15:33:14.851711Z",
     "shell.execute_reply": "2024-11-07T15:33:14.851444Z"
    },
    "papermill": {
     "duration": 0.004431,
     "end_time": "2024-11-07T15:33:14.852431",
     "exception": false,
     "start_time": "2024-11-07T15:33:14.848000",
     "status": "completed"
    },
    "tags": []
   },
   "outputs": [],
   "source": [
    "df['cost'] = new_column"
   ]
  },
  {
   "cell_type": "code",
   "execution_count": 5,
   "id": "c893a74f",
   "metadata": {
    "execution": {
     "iopub.execute_input": "2024-11-07T15:33:14.855533Z",
     "iopub.status.busy": "2024-11-07T15:33:14.855402Z",
     "iopub.status.idle": "2024-11-07T15:33:14.859509Z",
     "shell.execute_reply": "2024-11-07T15:33:14.859281Z"
    },
    "papermill": {
     "duration": 0.006503,
     "end_time": "2024-11-07T15:33:14.860203",
     "exception": false,
     "start_time": "2024-11-07T15:33:14.853700",
     "status": "completed"
    },
    "tags": []
   },
   "outputs": [
    {
     "data": {
      "text/html": [
       "<div>\n",
       "<style scoped>\n",
       "    .dataframe tbody tr th:only-of-type {\n",
       "        vertical-align: middle;\n",
       "    }\n",
       "\n",
       "    .dataframe tbody tr th {\n",
       "        vertical-align: top;\n",
       "    }\n",
       "\n",
       "    .dataframe thead th {\n",
       "        text-align: right;\n",
       "    }\n",
       "</style>\n",
       "<table border=\"1\" class=\"dataframe\">\n",
       "  <thead>\n",
       "    <tr style=\"text-align: right;\">\n",
       "      <th></th>\n",
       "      <th>price</th>\n",
       "      <th>energy</th>\n",
       "      <th>cost</th>\n",
       "    </tr>\n",
       "    <tr>\n",
       "      <th>datetime</th>\n",
       "      <th></th>\n",
       "      <th></th>\n",
       "      <th></th>\n",
       "    </tr>\n",
       "  </thead>\n",
       "  <tbody>\n",
       "    <tr>\n",
       "      <th>2023-01-01 00:00:00</th>\n",
       "      <td>0.00</td>\n",
       "      <td>14039.8</td>\n",
       "      <td>0.000</td>\n",
       "    </tr>\n",
       "    <tr>\n",
       "      <th>2023-01-01 01:00:00</th>\n",
       "      <td>0.00</td>\n",
       "      <td>13581.2</td>\n",
       "      <td>0.000</td>\n",
       "    </tr>\n",
       "    <tr>\n",
       "      <th>...</th>\n",
       "      <td>...</td>\n",
       "      <td>...</td>\n",
       "      <td>...</td>\n",
       "    </tr>\n",
       "    <tr>\n",
       "      <th>2023-12-31 22:00:00</th>\n",
       "      <td>74.74</td>\n",
       "      <td>13223.4</td>\n",
       "      <td>988316.916</td>\n",
       "    </tr>\n",
       "    <tr>\n",
       "      <th>2023-12-31 23:00:00</th>\n",
       "      <td>71.96</td>\n",
       "      <td>12659.1</td>\n",
       "      <td>910948.836</td>\n",
       "    </tr>\n",
       "  </tbody>\n",
       "</table>\n",
       "<p>8760 rows × 3 columns</p>\n",
       "</div>"
      ],
      "text/plain": [
       "                     price   energy        cost\n",
       "datetime                                       \n",
       "2023-01-01 00:00:00   0.00  14039.8       0.000\n",
       "2023-01-01 01:00:00   0.00  13581.2       0.000\n",
       "...                    ...      ...         ...\n",
       "2023-12-31 22:00:00  74.74  13223.4  988316.916\n",
       "2023-12-31 23:00:00  71.96  12659.1  910948.836\n",
       "\n",
       "[8760 rows x 3 columns]"
      ]
     },
     "execution_count": 5,
     "metadata": {},
     "output_type": "execute_result"
    }
   ],
   "source": [
    "df"
   ]
  },
  {
   "cell_type": "markdown",
   "id": "9d16c388",
   "metadata": {
    "papermill": {
     "duration": 0.001116,
     "end_time": "2024-11-07T15:33:14.862620",
     "exception": false,
     "start_time": "2024-11-07T15:33:14.861504",
     "status": "completed"
    },
    "tags": []
   },
   "source": [
    "## Temporal columns"
   ]
  },
  {
   "cell_type": "code",
   "execution_count": 6,
   "id": "2d362b6a",
   "metadata": {
    "execution": {
     "iopub.execute_input": "2024-11-07T15:33:14.865254Z",
     "iopub.status.busy": "2024-11-07T15:33:14.865164Z",
     "iopub.status.idle": "2024-11-07T15:33:14.870785Z",
     "shell.execute_reply": "2024-11-07T15:33:14.870578Z"
    },
    "papermill": {
     "duration": 0.007751,
     "end_time": "2024-11-07T15:33:14.871439",
     "exception": false,
     "start_time": "2024-11-07T15:33:14.863688",
     "status": "completed"
    },
    "tags": []
   },
   "outputs": [
    {
     "data": {
      "text/html": [
       "<div>\n",
       "<style scoped>\n",
       "    .dataframe tbody tr th:only-of-type {\n",
       "        vertical-align: middle;\n",
       "    }\n",
       "\n",
       "    .dataframe tbody tr th {\n",
       "        vertical-align: top;\n",
       "    }\n",
       "\n",
       "    .dataframe thead th {\n",
       "        text-align: right;\n",
       "    }\n",
       "</style>\n",
       "<table border=\"1\" class=\"dataframe\">\n",
       "  <thead>\n",
       "    <tr style=\"text-align: right;\">\n",
       "      <th></th>\n",
       "      <th>price</th>\n",
       "      <th>energy</th>\n",
       "      <th>cost</th>\n",
       "      <th>year</th>\n",
       "      <th>month</th>\n",
       "      <th>day</th>\n",
       "      <th>hour</th>\n",
       "      <th>dayofweek</th>\n",
       "    </tr>\n",
       "    <tr>\n",
       "      <th>datetime</th>\n",
       "      <th></th>\n",
       "      <th></th>\n",
       "      <th></th>\n",
       "      <th></th>\n",
       "      <th></th>\n",
       "      <th></th>\n",
       "      <th></th>\n",
       "      <th></th>\n",
       "    </tr>\n",
       "  </thead>\n",
       "  <tbody>\n",
       "    <tr>\n",
       "      <th>2023-01-01 00:00:00</th>\n",
       "      <td>0.00</td>\n",
       "      <td>14039.8</td>\n",
       "      <td>0.000</td>\n",
       "      <td>2023</td>\n",
       "      <td>1</td>\n",
       "      <td>1</td>\n",
       "      <td>0</td>\n",
       "      <td>6</td>\n",
       "    </tr>\n",
       "    <tr>\n",
       "      <th>2023-01-01 01:00:00</th>\n",
       "      <td>0.00</td>\n",
       "      <td>13581.2</td>\n",
       "      <td>0.000</td>\n",
       "      <td>2023</td>\n",
       "      <td>1</td>\n",
       "      <td>1</td>\n",
       "      <td>1</td>\n",
       "      <td>6</td>\n",
       "    </tr>\n",
       "    <tr>\n",
       "      <th>...</th>\n",
       "      <td>...</td>\n",
       "      <td>...</td>\n",
       "      <td>...</td>\n",
       "      <td>...</td>\n",
       "      <td>...</td>\n",
       "      <td>...</td>\n",
       "      <td>...</td>\n",
       "      <td>...</td>\n",
       "    </tr>\n",
       "    <tr>\n",
       "      <th>2023-12-31 22:00:00</th>\n",
       "      <td>74.74</td>\n",
       "      <td>13223.4</td>\n",
       "      <td>988316.916</td>\n",
       "      <td>2023</td>\n",
       "      <td>12</td>\n",
       "      <td>31</td>\n",
       "      <td>22</td>\n",
       "      <td>6</td>\n",
       "    </tr>\n",
       "    <tr>\n",
       "      <th>2023-12-31 23:00:00</th>\n",
       "      <td>71.96</td>\n",
       "      <td>12659.1</td>\n",
       "      <td>910948.836</td>\n",
       "      <td>2023</td>\n",
       "      <td>12</td>\n",
       "      <td>31</td>\n",
       "      <td>23</td>\n",
       "      <td>6</td>\n",
       "    </tr>\n",
       "  </tbody>\n",
       "</table>\n",
       "<p>8760 rows × 8 columns</p>\n",
       "</div>"
      ],
      "text/plain": [
       "                     price   energy        cost  year  month  day  hour  \\\n",
       "datetime                                                                  \n",
       "2023-01-01 00:00:00   0.00  14039.8       0.000  2023      1    1     0   \n",
       "2023-01-01 01:00:00   0.00  13581.2       0.000  2023      1    1     1   \n",
       "...                    ...      ...         ...   ...    ...  ...   ...   \n",
       "2023-12-31 22:00:00  74.74  13223.4  988316.916  2023     12   31    22   \n",
       "2023-12-31 23:00:00  71.96  12659.1  910948.836  2023     12   31    23   \n",
       "\n",
       "                     dayofweek  \n",
       "datetime                        \n",
       "2023-01-01 00:00:00          6  \n",
       "2023-01-01 01:00:00          6  \n",
       "...                        ...  \n",
       "2023-12-31 22:00:00          6  \n",
       "2023-12-31 23:00:00          6  \n",
       "\n",
       "[8760 rows x 8 columns]"
      ]
     },
     "execution_count": 6,
     "metadata": {},
     "output_type": "execute_result"
    }
   ],
   "source": [
    "df['year'] = df.index.year\n",
    "df['month'] = df.index.month\n",
    "df['day'] = df.index.day\n",
    "df['hour'] = df.index.hour\n",
    "df['dayofweek'] = df.index.dayofweek\n",
    "df"
   ]
  },
  {
   "cell_type": "markdown",
   "id": "eab85cb4",
   "metadata": {
    "papermill": {
     "duration": 0.001197,
     "end_time": "2024-11-07T15:33:14.873990",
     "exception": false,
     "start_time": "2024-11-07T15:33:14.872793",
     "status": "completed"
    },
    "tags": []
   },
   "source": [
    "## Export to Excel"
   ]
  },
  {
   "cell_type": "code",
   "execution_count": 7,
   "id": "7643a90e",
   "metadata": {
    "execution": {
     "iopub.execute_input": "2024-11-07T15:33:14.877869Z",
     "iopub.status.busy": "2024-11-07T15:33:14.877748Z",
     "iopub.status.idle": "2024-11-07T15:33:15.338617Z",
     "shell.execute_reply": "2024-11-07T15:33:15.338366Z"
    },
    "papermill": {
     "duration": 0.464508,
     "end_time": "2024-11-07T15:33:15.339606",
     "exception": false,
     "start_time": "2024-11-07T15:33:14.875098",
     "status": "completed"
    },
    "tags": []
   },
   "outputs": [],
   "source": [
    "path = '../data/energy_cost_2023.xlsx'\n",
    "df.to_excel(path)"
   ]
  }
 ],
 "metadata": {
  "kernelspec": {
   "display_name": "work",
   "language": "python",
   "name": "python3"
  },
  "language_info": {
   "codemirror_mode": {
    "name": "ipython",
    "version": 3
   },
   "file_extension": ".py",
   "mimetype": "text/x-python",
   "name": "python",
   "nbconvert_exporter": "python",
   "pygments_lexer": "ipython3",
   "version": "3.12.3"
  },
  "papermill": {
   "default_parameters": {},
   "duration": 1.972163,
   "end_time": "2024-11-07T15:33:15.557781",
   "environment_variables": {},
   "exception": null,
   "input_path": "/Users/sota/Library/CloudStorage/Dropbox-datons/Training/2 Areas/Course Repos GitHub/repos/dev/DF/workbook/20_DataFrame/1_Create Columns/1C_Options.ipynb",
   "output_path": "/Users/sota/Library/CloudStorage/Dropbox-datons/Training/2 Areas/Course Repos GitHub/repos/dev/DF/workbook/20_DataFrame/1_Create Columns/1C_Options.ipynb",
   "parameters": {},
   "start_time": "2024-11-07T15:33:13.585618",
   "version": "2.6.0"
  }
 },
 "nbformat": 4,
 "nbformat_minor": 5
}