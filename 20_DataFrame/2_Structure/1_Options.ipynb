{
 "cells": [
  {
   "cell_type": "markdown",
   "id": "51fc0327",
   "metadata": {
    "papermill": {
     "duration": 0.003793,
     "end_time": "2024-11-07T15:33:17.887197",
     "exception": false,
     "start_time": "2024-11-07T15:33:17.883404",
     "status": "completed"
    },
    "tags": []
   },
   "source": [
    "# Pandas objects"
   ]
  },
  {
   "cell_type": "markdown",
   "id": "4bbed0e2",
   "metadata": {
    "papermill": {
     "duration": 0.002464,
     "end_time": "2024-11-07T15:33:17.892870",
     "exception": false,
     "start_time": "2024-11-07T15:33:17.890406",
     "status": "completed"
    },
    "tags": []
   },
   "source": [
    "<div>\n",
    "<img src=\"src/DataFrame.jpg\" width=\"45%\"/>\n",
    "<img src=\"src/Series.jpg\" width=\"45%\"/>\n",
    "</div>"
   ]
  },
  {
   "cell_type": "markdown",
   "id": "f36e9c1e",
   "metadata": {
    "papermill": {
     "duration": 0.002252,
     "end_time": "2024-11-07T15:33:17.897873",
     "exception": false,
     "start_time": "2024-11-07T15:33:17.895621",
     "status": "completed"
    },
    "tags": []
   },
   "source": [
    "## Load dataset"
   ]
  },
  {
   "cell_type": "code",
   "execution_count": null,
   "id": "c058ada7",
   "metadata": {
    "execution": {
     "iopub.execute_input": "2024-11-07T15:33:17.903162Z",
     "iopub.status.busy": "2024-11-07T15:33:17.902980Z",
     "iopub.status.idle": "2024-11-07T15:33:18.118530Z",
     "shell.execute_reply": "2024-11-07T15:33:18.118262Z"
    },
    "papermill": {
     "duration": 0.219738,
     "end_time": "2024-11-07T15:33:18.119692",
     "exception": false,
     "start_time": "2024-11-07T15:33:17.899954",
     "status": "completed"
    },
    "tags": []
   },
   "outputs": [],
   "source": []
  },
  {
   "cell_type": "code",
   "execution_count": null,
   "id": "fe57cc91",
   "metadata": {
    "execution": {
     "iopub.execute_input": "2024-11-07T15:33:18.128185Z",
     "iopub.status.busy": "2024-11-07T15:33:18.128035Z",
     "iopub.status.idle": "2024-11-07T15:33:18.133333Z",
     "shell.execute_reply": "2024-11-07T15:33:18.133066Z"
    },
    "papermill": {
     "duration": 0.012585,
     "end_time": "2024-11-07T15:33:18.134476",
     "exception": false,
     "start_time": "2024-11-07T15:33:18.121891",
     "status": "completed"
    },
    "tags": []
   },
   "outputs": [
    {
     "data": {
      "text/html": [
       "<div>\n",
       "<style scoped>\n",
       "    .dataframe tbody tr th:only-of-type {\n",
       "        vertical-align: middle;\n",
       "    }\n",
       "\n",
       "    .dataframe tbody tr th {\n",
       "        vertical-align: top;\n",
       "    }\n",
       "\n",
       "    .dataframe thead th {\n",
       "        text-align: right;\n",
       "    }\n",
       "</style>\n",
       "<table border=\"1\" class=\"dataframe\">\n",
       "  <thead>\n",
       "    <tr style=\"text-align: right;\">\n",
       "      <th></th>\n",
       "      <th>Matches</th>\n",
       "      <th>Goals</th>\n",
       "      <th>Assists</th>\n",
       "      <th>Birthday</th>\n",
       "    </tr>\n",
       "    <tr>\n",
       "      <th>Player</th>\n",
       "      <th></th>\n",
       "      <th></th>\n",
       "      <th></th>\n",
       "      <th></th>\n",
       "    </tr>\n",
       "  </thead>\n",
       "  <tbody>\n",
       "    <tr>\n",
       "      <th>CR7</th>\n",
       "      <td>923</td>\n",
       "      <td>689</td>\n",
       "      <td>231</td>\n",
       "      <td>1985-02-05</td>\n",
       "    </tr>\n",
       "    <tr>\n",
       "      <th>Messi</th>\n",
       "      <td>800</td>\n",
       "      <td>679</td>\n",
       "      <td>312</td>\n",
       "      <td>1987-06-24</td>\n",
       "    </tr>\n",
       "    <tr>\n",
       "      <th>Lewandowski</th>\n",
       "      <td>662</td>\n",
       "      <td>498</td>\n",
       "      <td>131</td>\n",
       "      <td>1988-08-21</td>\n",
       "    </tr>\n",
       "    <tr>\n",
       "      <th>Benzema</th>\n",
       "      <td>737</td>\n",
       "      <td>370</td>\n",
       "      <td>182</td>\n",
       "      <td>1987-12-19</td>\n",
       "    </tr>\n",
       "  </tbody>\n",
       "</table>\n",
       "</div>"
      ],
      "text/plain": [
       "             Matches  Goals  Assists   Birthday\n",
       "Player                                         \n",
       "CR7              923    689      231 1985-02-05\n",
       "Messi            800    679      312 1987-06-24\n",
       "Lewandowski      662    498      131 1988-08-21\n",
       "Benzema          737    370      182 1987-12-19"
      ]
     },
     "execution_count": null,
     "metadata": {},
     "output_type": "execute_result"
    }
   ],
   "source": []
  },
  {
   "cell_type": "markdown",
   "id": "1226cf98",
   "metadata": {
    "papermill": {
     "duration": 0.001294,
     "end_time": "2024-11-07T15:33:18.137512",
     "exception": false,
     "start_time": "2024-11-07T15:33:18.136218",
     "status": "completed"
    },
    "tags": []
   },
   "source": [
    "## Pandas Objects"
   ]
  },
  {
   "cell_type": "markdown",
   "id": "90dbee11",
   "metadata": {
    "papermill": {
     "duration": 0.001282,
     "end_time": "2024-11-07T15:33:18.140075",
     "exception": false,
     "start_time": "2024-11-07T15:33:18.138793",
     "status": "completed"
    },
    "tags": []
   },
   "source": [
    "### DataFrame"
   ]
  },
  {
   "cell_type": "code",
   "execution_count": null,
   "id": "1e01847b",
   "metadata": {
    "execution": {
     "iopub.execute_input": "2024-11-07T15:33:18.143363Z",
     "iopub.status.busy": "2024-11-07T15:33:18.143154Z",
     "iopub.status.idle": "2024-11-07T15:33:18.145392Z",
     "shell.execute_reply": "2024-11-07T15:33:18.145169Z"
    },
    "papermill": {
     "duration": 0.004833,
     "end_time": "2024-11-07T15:33:18.146139",
     "exception": false,
     "start_time": "2024-11-07T15:33:18.141306",
     "status": "completed"
    },
    "tags": []
   },
   "outputs": [
    {
     "data": {
      "text/plain": [
       "pandas.core.frame.DataFrame"
      ]
     },
     "execution_count": null,
     "metadata": {},
     "output_type": "execute_result"
    }
   ],
   "source": []
  },
  {
   "cell_type": "code",
   "execution_count": null,
   "id": "c893be51",
   "metadata": {
    "execution": {
     "iopub.execute_input": "2024-11-07T15:33:18.150000Z",
     "iopub.status.busy": "2024-11-07T15:33:18.149878Z",
     "iopub.status.idle": "2024-11-07T15:33:18.152960Z",
     "shell.execute_reply": "2024-11-07T15:33:18.152758Z"
    },
    "papermill": {
     "duration": 0.005949,
     "end_time": "2024-11-07T15:33:18.153672",
     "exception": false,
     "start_time": "2024-11-07T15:33:18.147723",
     "status": "completed"
    },
    "tags": []
   },
   "outputs": [
    {
     "data": {
      "text/html": [
       "<div>\n",
       "<style scoped>\n",
       "    .dataframe tbody tr th:only-of-type {\n",
       "        vertical-align: middle;\n",
       "    }\n",
       "\n",
       "    .dataframe tbody tr th {\n",
       "        vertical-align: top;\n",
       "    }\n",
       "\n",
       "    .dataframe thead th {\n",
       "        text-align: right;\n",
       "    }\n",
       "</style>\n",
       "<table border=\"1\" class=\"dataframe\">\n",
       "  <thead>\n",
       "    <tr style=\"text-align: right;\">\n",
       "      <th></th>\n",
       "      <th>Matches</th>\n",
       "      <th>Goals</th>\n",
       "      <th>Assists</th>\n",
       "      <th>Birthday</th>\n",
       "    </tr>\n",
       "    <tr>\n",
       "      <th>Player</th>\n",
       "      <th></th>\n",
       "      <th></th>\n",
       "      <th></th>\n",
       "      <th></th>\n",
       "    </tr>\n",
       "  </thead>\n",
       "  <tbody>\n",
       "    <tr>\n",
       "      <th>CR7</th>\n",
       "      <td>923</td>\n",
       "      <td>689</td>\n",
       "      <td>231</td>\n",
       "      <td>1985-02-05</td>\n",
       "    </tr>\n",
       "    <tr>\n",
       "      <th>Messi</th>\n",
       "      <td>800</td>\n",
       "      <td>679</td>\n",
       "      <td>312</td>\n",
       "      <td>1987-06-24</td>\n",
       "    </tr>\n",
       "    <tr>\n",
       "      <th>Lewandowski</th>\n",
       "      <td>662</td>\n",
       "      <td>498</td>\n",
       "      <td>131</td>\n",
       "      <td>1988-08-21</td>\n",
       "    </tr>\n",
       "    <tr>\n",
       "      <th>Benzema</th>\n",
       "      <td>737</td>\n",
       "      <td>370</td>\n",
       "      <td>182</td>\n",
       "      <td>1987-12-19</td>\n",
       "    </tr>\n",
       "  </tbody>\n",
       "</table>\n",
       "</div>"
      ],
      "text/plain": [
       "             Matches  Goals  Assists   Birthday\n",
       "Player                                         \n",
       "CR7              923    689      231 1985-02-05\n",
       "Messi            800    679      312 1987-06-24\n",
       "Lewandowski      662    498      131 1988-08-21\n",
       "Benzema          737    370      182 1987-12-19"
      ]
     },
     "execution_count": null,
     "metadata": {},
     "output_type": "execute_result"
    }
   ],
   "source": []
  },
  {
   "cell_type": "code",
   "execution_count": null,
   "id": "cb1be9e8",
   "metadata": {
    "papermill": {
     "duration": 0.001416,
     "end_time": "2024-11-07T15:33:18.156722",
     "exception": false,
     "start_time": "2024-11-07T15:33:18.155306",
     "status": "completed"
    },
    "tags": []
   },
   "outputs": [],
   "source": []
  },
  {
   "cell_type": "markdown",
   "id": "40423c92",
   "metadata": {
    "papermill": {
     "duration": 0.001477,
     "end_time": "2024-11-07T15:33:18.159577",
     "exception": false,
     "start_time": "2024-11-07T15:33:18.158100",
     "status": "completed"
    },
    "tags": []
   },
   "source": [
    "### Series"
   ]
  },
  {
   "cell_type": "code",
   "execution_count": null,
   "id": "72a6eaac",
   "metadata": {
    "execution": {
     "iopub.execute_input": "2024-11-07T15:33:18.163019Z",
     "iopub.status.busy": "2024-11-07T15:33:18.162916Z",
     "iopub.status.idle": "2024-11-07T15:33:18.164866Z",
     "shell.execute_reply": "2024-11-07T15:33:18.164639Z"
    },
    "papermill": {
     "duration": 0.004583,
     "end_time": "2024-11-07T15:33:18.165589",
     "exception": false,
     "start_time": "2024-11-07T15:33:18.161006",
     "status": "completed"
    },
    "tags": []
   },
   "outputs": [
    {
     "data": {
      "text/plain": [
       "pandas.core.series.Series"
      ]
     },
     "execution_count": null,
     "metadata": {},
     "output_type": "execute_result"
    }
   ],
   "source": []
  },
  {
   "cell_type": "code",
   "execution_count": null,
   "id": "91eadbd1",
   "metadata": {
    "execution": {
     "iopub.execute_input": "2024-11-07T15:33:18.168817Z",
     "iopub.status.busy": "2024-11-07T15:33:18.168728Z",
     "iopub.status.idle": "2024-11-07T15:33:18.170981Z",
     "shell.execute_reply": "2024-11-07T15:33:18.170744Z"
    },
    "papermill": {
     "duration": 0.00466,
     "end_time": "2024-11-07T15:33:18.171653",
     "exception": false,
     "start_time": "2024-11-07T15:33:18.166993",
     "status": "completed"
    },
    "tags": []
   },
   "outputs": [
    {
     "data": {
      "text/plain": [
       "Player\n",
       "CR7           1985-02-05\n",
       "Messi         1987-06-24\n",
       "Lewandowski   1988-08-21\n",
       "Benzema       1987-12-19\n",
       "Name: Birthday, dtype: datetime64[ns]"
      ]
     },
     "execution_count": null,
     "metadata": {},
     "output_type": "execute_result"
    }
   ],
   "source": []
  },
  {
   "cell_type": "markdown",
   "id": "ee56cebb",
   "metadata": {
    "papermill": {
     "duration": 0.001461,
     "end_time": "2024-11-07T15:33:18.174672",
     "exception": false,
     "start_time": "2024-11-07T15:33:18.173211",
     "status": "completed"
    },
    "tags": []
   },
   "source": [
    "## Properties"
   ]
  },
  {
   "cell_type": "code",
   "execution_count": null,
   "id": "bde3803a",
   "metadata": {
    "execution": {
     "iopub.execute_input": "2024-11-07T15:33:18.178498Z",
     "iopub.status.busy": "2024-11-07T15:33:18.178354Z",
     "iopub.status.idle": "2024-11-07T15:33:18.180825Z",
     "shell.execute_reply": "2024-11-07T15:33:18.180526Z"
    },
    "papermill": {
     "duration": 0.005326,
     "end_time": "2024-11-07T15:33:18.181615",
     "exception": false,
     "start_time": "2024-11-07T15:33:18.176289",
     "status": "completed"
    },
    "tags": []
   },
   "outputs": [
    {
     "data": {
      "text/plain": [
       "Player\n",
       "CR7           1985-02-05\n",
       "Messi         1987-06-24\n",
       "Lewandowski   1988-08-21\n",
       "Benzema       1987-12-19\n",
       "Name: Birthday, dtype: datetime64[ns]"
      ]
     },
     "execution_count": null,
     "metadata": {},
     "output_type": "execute_result"
    }
   ],
   "source": []
  },
  {
   "cell_type": "markdown",
   "id": "95dc0d46",
   "metadata": {
    "papermill": {
     "duration": 0.001532,
     "end_time": "2024-11-07T15:33:18.184692",
     "exception": false,
     "start_time": "2024-11-07T15:33:18.183160",
     "status": "completed"
    },
    "tags": []
   },
   "source": [
    "### Index"
   ]
  },
  {
   "cell_type": "code",
   "execution_count": null,
   "id": "410ae286",
   "metadata": {
    "execution": {
     "iopub.execute_input": "2024-11-07T15:33:18.188451Z",
     "iopub.status.busy": "2024-11-07T15:33:18.188336Z",
     "iopub.status.idle": "2024-11-07T15:33:18.190373Z",
     "shell.execute_reply": "2024-11-07T15:33:18.190140Z"
    },
    "papermill": {
     "duration": 0.004777,
     "end_time": "2024-11-07T15:33:18.191075",
     "exception": false,
     "start_time": "2024-11-07T15:33:18.186298",
     "status": "completed"
    },
    "tags": []
   },
   "outputs": [
    {
     "data": {
      "text/plain": [
       "Index(['CR7', 'Messi', 'Lewandowski', 'Benzema'], dtype='object', name='Player')"
      ]
     },
     "execution_count": null,
     "metadata": {},
     "output_type": "execute_result"
    }
   ],
   "source": []
  },
  {
   "cell_type": "code",
   "execution_count": null,
   "id": "58a7d913",
   "metadata": {
    "execution": {
     "iopub.execute_input": "2024-11-07T15:33:18.194617Z",
     "iopub.status.busy": "2024-11-07T15:33:18.194534Z",
     "iopub.status.idle": "2024-11-07T15:33:18.197512Z",
     "shell.execute_reply": "2024-11-07T15:33:18.197306Z"
    },
    "papermill": {
     "duration": 0.005586,
     "end_time": "2024-11-07T15:33:18.198280",
     "exception": false,
     "start_time": "2024-11-07T15:33:18.192694",
     "status": "completed"
    },
    "tags": []
   },
   "outputs": [
    {
     "data": {
      "text/html": [
       "<div>\n",
       "<style scoped>\n",
       "    .dataframe tbody tr th:only-of-type {\n",
       "        vertical-align: middle;\n",
       "    }\n",
       "\n",
       "    .dataframe tbody tr th {\n",
       "        vertical-align: top;\n",
       "    }\n",
       "\n",
       "    .dataframe thead th {\n",
       "        text-align: right;\n",
       "    }\n",
       "</style>\n",
       "<table border=\"1\" class=\"dataframe\">\n",
       "  <thead>\n",
       "    <tr style=\"text-align: right;\">\n",
       "      <th></th>\n",
       "      <th>Matches</th>\n",
       "      <th>Goals</th>\n",
       "      <th>Assists</th>\n",
       "      <th>Birthday</th>\n",
       "    </tr>\n",
       "    <tr>\n",
       "      <th>Player</th>\n",
       "      <th></th>\n",
       "      <th></th>\n",
       "      <th></th>\n",
       "      <th></th>\n",
       "    </tr>\n",
       "  </thead>\n",
       "  <tbody>\n",
       "    <tr>\n",
       "      <th>CR7</th>\n",
       "      <td>923</td>\n",
       "      <td>689</td>\n",
       "      <td>231</td>\n",
       "      <td>1985-02-05</td>\n",
       "    </tr>\n",
       "    <tr>\n",
       "      <th>Messi</th>\n",
       "      <td>800</td>\n",
       "      <td>679</td>\n",
       "      <td>312</td>\n",
       "      <td>1987-06-24</td>\n",
       "    </tr>\n",
       "    <tr>\n",
       "      <th>Lewandowski</th>\n",
       "      <td>662</td>\n",
       "      <td>498</td>\n",
       "      <td>131</td>\n",
       "      <td>1988-08-21</td>\n",
       "    </tr>\n",
       "    <tr>\n",
       "      <th>Benzema</th>\n",
       "      <td>737</td>\n",
       "      <td>370</td>\n",
       "      <td>182</td>\n",
       "      <td>1987-12-19</td>\n",
       "    </tr>\n",
       "  </tbody>\n",
       "</table>\n",
       "</div>"
      ],
      "text/plain": [
       "             Matches  Goals  Assists   Birthday\n",
       "Player                                         \n",
       "CR7              923    689      231 1985-02-05\n",
       "Messi            800    679      312 1987-06-24\n",
       "Lewandowski      662    498      131 1988-08-21\n",
       "Benzema          737    370      182 1987-12-19"
      ]
     },
     "execution_count": null,
     "metadata": {},
     "output_type": "execute_result"
    }
   ],
   "source": []
  },
  {
   "cell_type": "code",
   "execution_count": null,
   "id": "8f337e18",
   "metadata": {
    "execution": {
     "iopub.execute_input": "2024-11-07T15:33:18.201941Z",
     "iopub.status.busy": "2024-11-07T15:33:18.201784Z",
     "iopub.status.idle": "2024-11-07T15:33:18.203758Z",
     "shell.execute_reply": "2024-11-07T15:33:18.203546Z"
    },
    "papermill": {
     "duration": 0.004553,
     "end_time": "2024-11-07T15:33:18.204437",
     "exception": false,
     "start_time": "2024-11-07T15:33:18.199884",
     "status": "completed"
    },
    "tags": []
   },
   "outputs": [
    {
     "data": {
      "text/plain": [
       "Index(['CR7', 'Messi', 'Lewandowski', 'Benzema'], dtype='object', name='Player')"
      ]
     },
     "execution_count": null,
     "metadata": {},
     "output_type": "execute_result"
    }
   ],
   "source": []
  },
  {
   "cell_type": "markdown",
   "id": "3d387362",
   "metadata": {
    "papermill": {
     "duration": 0.001635,
     "end_time": "2024-11-07T15:33:18.207737",
     "exception": false,
     "start_time": "2024-11-07T15:33:18.206102",
     "status": "completed"
    },
    "tags": []
   },
   "source": [
    "### Data Types"
   ]
  },
  {
   "cell_type": "code",
   "execution_count": null,
   "id": "60c85315",
   "metadata": {
    "execution": {
     "iopub.execute_input": "2024-11-07T15:33:18.211478Z",
     "iopub.status.busy": "2024-11-07T15:33:18.211390Z",
     "iopub.status.idle": "2024-11-07T15:33:18.213718Z",
     "shell.execute_reply": "2024-11-07T15:33:18.213484Z"
    },
    "papermill": {
     "duration": 0.004938,
     "end_time": "2024-11-07T15:33:18.214424",
     "exception": false,
     "start_time": "2024-11-07T15:33:18.209486",
     "status": "completed"
    },
    "tags": []
   },
   "outputs": [
    {
     "data": {
      "text/plain": [
       "Player\n",
       "CR7           1985-02-05\n",
       "Messi         1987-06-24\n",
       "Lewandowski   1988-08-21\n",
       "Benzema       1987-12-19\n",
       "Name: Birthday, dtype: datetime64[ns]"
      ]
     },
     "execution_count": null,
     "metadata": {},
     "output_type": "execute_result"
    }
   ],
   "source": []
  },
  {
   "cell_type": "code",
   "execution_count": null,
   "id": "cfcf9356",
   "metadata": {
    "execution": {
     "iopub.execute_input": "2024-11-07T15:33:18.218530Z",
     "iopub.status.busy": "2024-11-07T15:33:18.218435Z",
     "iopub.status.idle": "2024-11-07T15:33:18.220509Z",
     "shell.execute_reply": "2024-11-07T15:33:18.220291Z"
    },
    "papermill": {
     "duration": 0.004898,
     "end_time": "2024-11-07T15:33:18.221263",
     "exception": false,
     "start_time": "2024-11-07T15:33:18.216365",
     "status": "completed"
    },
    "tags": []
   },
   "outputs": [
    {
     "data": {
      "text/plain": [
       "Player\n",
       "CR7            689\n",
       "Messi          679\n",
       "Lewandowski    498\n",
       "Benzema        370\n",
       "Name: Goals, dtype: int64"
      ]
     },
     "execution_count": null,
     "metadata": {},
     "output_type": "execute_result"
    }
   ],
   "source": []
  }
 ],
 "metadata": {
  "kernelspec": {
   "display_name": "Python 3",
   "language": "python",
   "name": "python3"
  },
  "language_info": {
   "codemirror_mode": {
    "name": "ipython",
    "version": 3
   },
   "file_extension": ".py",
   "mimetype": "text/x-python",
   "name": "python",
   "nbconvert_exporter": "python",
   "pygments_lexer": "ipython3",
   "version": "3.12.3"
  },
  "papermill": {
   "default_parameters": {},
   "duration": 1.359463,
   "end_time": "2024-11-07T15:33:18.439908",
   "environment_variables": {},
   "exception": null,
   "input_path": "/Users/sota/Library/CloudStorage/Dropbox-datons/Training/2 Areas/Course Repos GitHub/repos/dev/DF/workbook/20_DataFrame/2_Structure/1C_Options.ipynb",
   "output_path": "/Users/sota/Library/CloudStorage/Dropbox-datons/Training/2 Areas/Course Repos GitHub/repos/dev/DF/workbook/20_DataFrame/2_Structure/1C_Options.ipynb",
   "parameters": {},
   "start_time": "2024-11-07T15:33:17.080445",
   "version": "2.6.0"
  }
 },
 "nbformat": 4,
 "nbformat_minor": 5
}
