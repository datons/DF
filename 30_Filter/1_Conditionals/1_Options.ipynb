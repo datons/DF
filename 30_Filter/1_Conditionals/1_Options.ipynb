{
 "cells": [
  {
   "attachments": {},
   "cell_type": "markdown",
   "id": "af45ec80",
   "metadata": {
    "papermill": {
     "duration": 0.006342,
     "end_time": "2024-11-07T15:33:23.870053",
     "exception": false,
     "start_time": "2024-11-07T15:33:23.863711",
     "status": "completed"
    },
    "tags": []
   },
   "source": [
    "# Filtering the pandas.DataFrame with boolean arrays (masks)"
   ]
  },
  {
   "cell_type": "markdown",
   "id": "4e677e0b",
   "metadata": {
    "papermill": {
     "duration": 0.003239,
     "end_time": "2024-11-07T15:33:23.877131",
     "exception": false,
     "start_time": "2024-11-07T15:33:23.873892",
     "status": "completed"
    },
    "tags": []
   },
   "source": [
    "[**See `filter` instructions**](https://datons.craft.me/h3f5pSQSE7l6RW) to complete the following exercises."
   ]
  },
  {
   "attachments": {},
   "cell_type": "markdown",
   "id": "8d467787-3573-434d-8c63-bab5d035882e",
   "metadata": {
    "papermill": {
     "duration": 0.002856,
     "end_time": "2024-11-07T15:33:23.883300",
     "exception": false,
     "start_time": "2024-11-07T15:33:23.880444",
     "status": "completed"
    },
    "tags": []
   },
   "source": [
    "## Load dataset"
   ]
  },
  {
   "cell_type": "code",
   "execution_count": null,
   "id": "71b1a87c-deb5-49cf-9ce6-cdcd24977293",
   "metadata": {
    "execution": {
     "iopub.execute_input": "2024-11-07T15:33:23.890221Z",
     "iopub.status.busy": "2024-11-07T15:33:23.889913Z",
     "iopub.status.idle": "2024-11-07T15:33:23.978269Z",
     "shell.execute_reply": "2024-11-07T15:33:23.978006Z"
    },
    "papermill": {
     "duration": 0.092601,
     "end_time": "2024-11-07T15:33:23.979068",
     "exception": false,
     "start_time": "2024-11-07T15:33:23.886467",
     "status": "completed"
    },
    "tags": [
     "change-false"
    ]
   },
   "outputs": [
    {
     "data": {
      "text/html": [
       "<div>\n",
       "<style scoped>\n",
       "    .dataframe tbody tr th:only-of-type {\n",
       "        vertical-align: middle;\n",
       "    }\n",
       "\n",
       "    .dataframe tbody tr th {\n",
       "        vertical-align: top;\n",
       "    }\n",
       "\n",
       "    .dataframe thead th {\n",
       "        text-align: right;\n",
       "    }\n",
       "</style>\n",
       "<table border=\"1\" class=\"dataframe\">\n",
       "  <thead>\n",
       "    <tr style=\"text-align: right;\">\n",
       "      <th></th>\n",
       "      <th>continent</th>\n",
       "      <th>year</th>\n",
       "      <th>lifeExp</th>\n",
       "      <th>pop</th>\n",
       "      <th>gdpPercap</th>\n",
       "      <th>iso_alpha</th>\n",
       "      <th>iso_num</th>\n",
       "    </tr>\n",
       "    <tr>\n",
       "      <th>country</th>\n",
       "      <th></th>\n",
       "      <th></th>\n",
       "      <th></th>\n",
       "      <th></th>\n",
       "      <th></th>\n",
       "      <th></th>\n",
       "      <th></th>\n",
       "    </tr>\n",
       "  </thead>\n",
       "  <tbody>\n",
       "    <tr>\n",
       "      <th>Afghanistan</th>\n",
       "      <td>Asia</td>\n",
       "      <td>2007</td>\n",
       "      <td>43.828</td>\n",
       "      <td>31889923</td>\n",
       "      <td>974.580338</td>\n",
       "      <td>AFG</td>\n",
       "      <td>4</td>\n",
       "    </tr>\n",
       "    <tr>\n",
       "      <th>Albania</th>\n",
       "      <td>Europe</td>\n",
       "      <td>2007</td>\n",
       "      <td>76.423</td>\n",
       "      <td>3600523</td>\n",
       "      <td>5937.029526</td>\n",
       "      <td>ALB</td>\n",
       "      <td>8</td>\n",
       "    </tr>\n",
       "    <tr>\n",
       "      <th>...</th>\n",
       "      <td>...</td>\n",
       "      <td>...</td>\n",
       "      <td>...</td>\n",
       "      <td>...</td>\n",
       "      <td>...</td>\n",
       "      <td>...</td>\n",
       "      <td>...</td>\n",
       "    </tr>\n",
       "    <tr>\n",
       "      <th>Zambia</th>\n",
       "      <td>Africa</td>\n",
       "      <td>2007</td>\n",
       "      <td>42.384</td>\n",
       "      <td>11746035</td>\n",
       "      <td>1271.211593</td>\n",
       "      <td>ZMB</td>\n",
       "      <td>894</td>\n",
       "    </tr>\n",
       "    <tr>\n",
       "      <th>Zimbabwe</th>\n",
       "      <td>Africa</td>\n",
       "      <td>2007</td>\n",
       "      <td>43.487</td>\n",
       "      <td>12311143</td>\n",
       "      <td>469.709298</td>\n",
       "      <td>ZWE</td>\n",
       "      <td>716</td>\n",
       "    </tr>\n",
       "  </tbody>\n",
       "</table>\n",
       "<p>142 rows × 7 columns</p>\n",
       "</div>"
      ],
      "text/plain": [
       "            continent  year  lifeExp       pop    gdpPercap iso_alpha  iso_num\n",
       "country                                                                       \n",
       "Afghanistan      Asia  2007   43.828  31889923   974.580338       AFG        4\n",
       "Albania        Europe  2007   76.423   3600523  5937.029526       ALB        8\n",
       "...               ...   ...      ...       ...          ...       ...      ...\n",
       "Zambia         Africa  2007   42.384  11746035  1271.211593       ZMB      894\n",
       "Zimbabwe       Africa  2007   43.487  12311143   469.709298       ZWE      716\n",
       "\n",
       "[142 rows x 7 columns]"
      ]
     },
     "execution_count": null,
     "metadata": {},
     "output_type": "execute_result"
    }
   ],
   "source": []
  },
  {
   "attachments": {},
   "cell_type": "markdown",
   "id": "d690d766",
   "metadata": {
    "papermill": {
     "duration": 0.002295,
     "end_time": "2024-11-07T15:33:23.983858",
     "exception": false,
     "start_time": "2024-11-07T15:33:23.981563",
     "status": "completed"
    },
    "tags": []
   },
   "source": [
    "## Single condition"
   ]
  },
  {
   "attachments": {},
   "cell_type": "markdown",
   "id": "0d58c78c",
   "metadata": {
    "papermill": {
     "duration": 0.001855,
     "end_time": "2024-11-07T15:33:23.987739",
     "exception": false,
     "start_time": "2024-11-07T15:33:23.985884",
     "status": "completed"
    },
    "tags": [
     "custom-exercise"
    ]
   },
   "source": [
    "**Exercise**: Filter countries from `Asia`."
   ]
  },
  {
   "attachments": {},
   "cell_type": "markdown",
   "id": "94156b84",
   "metadata": {
    "papermill": {
     "duration": 0.002011,
     "end_time": "2024-11-07T15:33:23.992084",
     "exception": false,
     "start_time": "2024-11-07T15:33:23.990073",
     "status": "completed"
    },
    "tags": []
   },
   "source": [
    "### Categorical"
   ]
  },
  {
   "attachments": {},
   "cell_type": "markdown",
   "id": "5c5d9c74-5ab1-4161-b41d-225ea75f0a75",
   "metadata": {
    "papermill": {
     "duration": 0.001795,
     "end_time": "2024-11-07T15:33:23.995686",
     "exception": false,
     "start_time": "2024-11-07T15:33:23.993891",
     "status": "completed"
    },
    "tags": []
   },
   "source": [
    "#### Create mask\n",
    "\n",
    "```python\n",
    "mask = df['column'] == 'value'\n",
    "```"
   ]
  },
  {
   "cell_type": "code",
   "execution_count": null,
   "id": "566d6233-f520-4da4-bb8d-529f4279af31",
   "metadata": {
    "execution": {
     "iopub.execute_input": "2024-11-07T15:33:24.000159Z",
     "iopub.status.busy": "2024-11-07T15:33:24.000010Z",
     "iopub.status.idle": "2024-11-07T15:33:24.002586Z",
     "shell.execute_reply": "2024-11-07T15:33:24.002362Z"
    },
    "papermill": {
     "duration": 0.005712,
     "end_time": "2024-11-07T15:33:24.003382",
     "exception": false,
     "start_time": "2024-11-07T15:33:23.997670",
     "status": "completed"
    },
    "tags": []
   },
   "outputs": [
    {
     "data": {
      "text/plain": [
       "country\n",
       "Afghanistan     True\n",
       "Albania        False\n",
       "               ...  \n",
       "Zambia         False\n",
       "Zimbabwe       False\n",
       "Name: continent, Length: 142, dtype: bool"
      ]
     },
     "execution_count": null,
     "metadata": {},
     "output_type": "execute_result"
    }
   ],
   "source": []
  },
  {
   "attachments": {},
   "cell_type": "markdown",
   "id": "c6cb5e69-eb96-4a8a-8d25-3d473b7f06eb",
   "metadata": {
    "papermill": {
     "duration": 0.001921,
     "end_time": "2024-11-07T15:33:24.007508",
     "exception": false,
     "start_time": "2024-11-07T15:33:24.005587",
     "status": "completed"
    },
    "tags": []
   },
   "source": [
    "#### Filter DataFrame with mask\n",
    "\n",
    "```python\n",
    "df[mask]\n",
    "```"
   ]
  },
  {
   "cell_type": "code",
   "execution_count": null,
   "id": "ad10ab90-208f-4b85-93d1-edab7ab18ee2",
   "metadata": {
    "execution": {
     "iopub.execute_input": "2024-11-07T15:33:24.011706Z",
     "iopub.status.busy": "2024-11-07T15:33:24.011529Z",
     "iopub.status.idle": "2024-11-07T15:33:24.015844Z",
     "shell.execute_reply": "2024-11-07T15:33:24.015646Z"
    },
    "papermill": {
     "duration": 0.007192,
     "end_time": "2024-11-07T15:33:24.016530",
     "exception": false,
     "start_time": "2024-11-07T15:33:24.009338",
     "status": "completed"
    },
    "tags": []
   },
   "outputs": [
    {
     "data": {
      "text/html": [
       "<div>\n",
       "<style scoped>\n",
       "    .dataframe tbody tr th:only-of-type {\n",
       "        vertical-align: middle;\n",
       "    }\n",
       "\n",
       "    .dataframe tbody tr th {\n",
       "        vertical-align: top;\n",
       "    }\n",
       "\n",
       "    .dataframe thead th {\n",
       "        text-align: right;\n",
       "    }\n",
       "</style>\n",
       "<table border=\"1\" class=\"dataframe\">\n",
       "  <thead>\n",
       "    <tr style=\"text-align: right;\">\n",
       "      <th></th>\n",
       "      <th>continent</th>\n",
       "      <th>year</th>\n",
       "      <th>lifeExp</th>\n",
       "      <th>pop</th>\n",
       "      <th>gdpPercap</th>\n",
       "      <th>iso_alpha</th>\n",
       "      <th>iso_num</th>\n",
       "    </tr>\n",
       "    <tr>\n",
       "      <th>country</th>\n",
       "      <th></th>\n",
       "      <th></th>\n",
       "      <th></th>\n",
       "      <th></th>\n",
       "      <th></th>\n",
       "      <th></th>\n",
       "      <th></th>\n",
       "    </tr>\n",
       "  </thead>\n",
       "  <tbody>\n",
       "    <tr>\n",
       "      <th>Afghanistan</th>\n",
       "      <td>Asia</td>\n",
       "      <td>2007</td>\n",
       "      <td>43.828</td>\n",
       "      <td>31889923</td>\n",
       "      <td>974.580338</td>\n",
       "      <td>AFG</td>\n",
       "      <td>4</td>\n",
       "    </tr>\n",
       "    <tr>\n",
       "      <th>Bahrain</th>\n",
       "      <td>Asia</td>\n",
       "      <td>2007</td>\n",
       "      <td>75.635</td>\n",
       "      <td>708573</td>\n",
       "      <td>29796.048340</td>\n",
       "      <td>BHR</td>\n",
       "      <td>48</td>\n",
       "    </tr>\n",
       "    <tr>\n",
       "      <th>...</th>\n",
       "      <td>...</td>\n",
       "      <td>...</td>\n",
       "      <td>...</td>\n",
       "      <td>...</td>\n",
       "      <td>...</td>\n",
       "      <td>...</td>\n",
       "      <td>...</td>\n",
       "    </tr>\n",
       "    <tr>\n",
       "      <th>West Bank and Gaza</th>\n",
       "      <td>Asia</td>\n",
       "      <td>2007</td>\n",
       "      <td>73.422</td>\n",
       "      <td>4018332</td>\n",
       "      <td>3025.349798</td>\n",
       "      <td>PSE</td>\n",
       "      <td>275</td>\n",
       "    </tr>\n",
       "    <tr>\n",
       "      <th>Yemen, Rep.</th>\n",
       "      <td>Asia</td>\n",
       "      <td>2007</td>\n",
       "      <td>62.698</td>\n",
       "      <td>22211743</td>\n",
       "      <td>2280.769906</td>\n",
       "      <td>YEM</td>\n",
       "      <td>887</td>\n",
       "    </tr>\n",
       "  </tbody>\n",
       "</table>\n",
       "<p>33 rows × 7 columns</p>\n",
       "</div>"
      ],
      "text/plain": [
       "                   continent  year  lifeExp       pop     gdpPercap iso_alpha  \\\n",
       "country                                                                         \n",
       "Afghanistan             Asia  2007   43.828  31889923    974.580338       AFG   \n",
       "Bahrain                 Asia  2007   75.635    708573  29796.048340       BHR   \n",
       "...                      ...   ...      ...       ...           ...       ...   \n",
       "West Bank and Gaza      Asia  2007   73.422   4018332   3025.349798       PSE   \n",
       "Yemen, Rep.             Asia  2007   62.698  22211743   2280.769906       YEM   \n",
       "\n",
       "                    iso_num  \n",
       "country                      \n",
       "Afghanistan               4  \n",
       "Bahrain                  48  \n",
       "...                     ...  \n",
       "West Bank and Gaza      275  \n",
       "Yemen, Rep.             887  \n",
       "\n",
       "[33 rows x 7 columns]"
      ]
     },
     "execution_count": null,
     "metadata": {},
     "output_type": "execute_result"
    }
   ],
   "source": []
  },
  {
   "attachments": {},
   "cell_type": "markdown",
   "id": "cc41b25c-c927-4ca6-89e5-2cb1bf6f6cb6",
   "metadata": {
    "papermill": {
     "duration": 0.001869,
     "end_time": "2024-11-07T15:33:24.020357",
     "exception": false,
     "start_time": "2024-11-07T15:33:24.018488",
     "status": "completed"
    },
    "tags": []
   },
   "source": [
    "### Numerical"
   ]
  },
  {
   "attachments": {},
   "cell_type": "markdown",
   "id": "9f9b3a3a",
   "metadata": {
    "papermill": {
     "duration": 0.0019,
     "end_time": "2024-11-07T15:33:24.024067",
     "exception": false,
     "start_time": "2024-11-07T15:33:24.022167",
     "status": "completed"
    },
    "tags": [
     "custom-exercise"
    ]
   },
   "source": [
    "**Exercise**: Filter countries with `lifeExp greater than 80` years old."
   ]
  },
  {
   "attachments": {},
   "cell_type": "markdown",
   "id": "86e76ce8",
   "metadata": {
    "papermill": {
     "duration": 0.001892,
     "end_time": "2024-11-07T15:33:24.027879",
     "exception": false,
     "start_time": "2024-11-07T15:33:24.025987",
     "status": "completed"
    },
    "tags": []
   },
   "source": [
    "#### Create mask\n",
    "\n",
    "```python\n",
    "mask = df['column'] > number\n",
    "```"
   ]
  },
  {
   "cell_type": "code",
   "execution_count": null,
   "id": "18804da2",
   "metadata": {
    "execution": {
     "iopub.execute_input": "2024-11-07T15:33:24.033113Z",
     "iopub.status.busy": "2024-11-07T15:33:24.032901Z",
     "iopub.status.idle": "2024-11-07T15:33:24.035769Z",
     "shell.execute_reply": "2024-11-07T15:33:24.035565Z"
    },
    "papermill": {
     "duration": 0.006193,
     "end_time": "2024-11-07T15:33:24.036507",
     "exception": false,
     "start_time": "2024-11-07T15:33:24.030314",
     "status": "completed"
    },
    "tags": []
   },
   "outputs": [
    {
     "data": {
      "text/plain": [
       "country\n",
       "Afghanistan    False\n",
       "Albania        False\n",
       "               ...  \n",
       "Zambia         False\n",
       "Zimbabwe       False\n",
       "Name: lifeExp, Length: 142, dtype: bool"
      ]
     },
     "execution_count": null,
     "metadata": {},
     "output_type": "execute_result"
    }
   ],
   "source": []
  },
  {
   "attachments": {},
   "cell_type": "markdown",
   "id": "317a5903",
   "metadata": {
    "papermill": {
     "duration": 0.002072,
     "end_time": "2024-11-07T15:33:24.040599",
     "exception": false,
     "start_time": "2024-11-07T15:33:24.038527",
     "status": "completed"
    },
    "tags": []
   },
   "source": [
    "#### Filter DataFrame with mask\n",
    "\n",
    "```python\n",
    "df[mask]\n",
    "```"
   ]
  },
  {
   "cell_type": "code",
   "execution_count": null,
   "id": "5d18df84",
   "metadata": {
    "execution": {
     "iopub.execute_input": "2024-11-07T15:33:24.044967Z",
     "iopub.status.busy": "2024-11-07T15:33:24.044875Z",
     "iopub.status.idle": "2024-11-07T15:33:24.049029Z",
     "shell.execute_reply": "2024-11-07T15:33:24.048767Z"
    },
    "papermill": {
     "duration": 0.007289,
     "end_time": "2024-11-07T15:33:24.049818",
     "exception": false,
     "start_time": "2024-11-07T15:33:24.042529",
     "status": "completed"
    },
    "tags": []
   },
   "outputs": [
    {
     "data": {
      "text/html": [
       "<div>\n",
       "<style scoped>\n",
       "    .dataframe tbody tr th:only-of-type {\n",
       "        vertical-align: middle;\n",
       "    }\n",
       "\n",
       "    .dataframe tbody tr th {\n",
       "        vertical-align: top;\n",
       "    }\n",
       "\n",
       "    .dataframe thead th {\n",
       "        text-align: right;\n",
       "    }\n",
       "</style>\n",
       "<table border=\"1\" class=\"dataframe\">\n",
       "  <thead>\n",
       "    <tr style=\"text-align: right;\">\n",
       "      <th></th>\n",
       "      <th>continent</th>\n",
       "      <th>year</th>\n",
       "      <th>lifeExp</th>\n",
       "      <th>pop</th>\n",
       "      <th>gdpPercap</th>\n",
       "      <th>iso_alpha</th>\n",
       "      <th>iso_num</th>\n",
       "    </tr>\n",
       "    <tr>\n",
       "      <th>country</th>\n",
       "      <th></th>\n",
       "      <th></th>\n",
       "      <th></th>\n",
       "      <th></th>\n",
       "      <th></th>\n",
       "      <th></th>\n",
       "      <th></th>\n",
       "    </tr>\n",
       "  </thead>\n",
       "  <tbody>\n",
       "    <tr>\n",
       "      <th>Australia</th>\n",
       "      <td>Oceania</td>\n",
       "      <td>2007</td>\n",
       "      <td>81.235</td>\n",
       "      <td>20434176</td>\n",
       "      <td>34435.36744</td>\n",
       "      <td>AUS</td>\n",
       "      <td>36</td>\n",
       "    </tr>\n",
       "    <tr>\n",
       "      <th>Canada</th>\n",
       "      <td>Americas</td>\n",
       "      <td>2007</td>\n",
       "      <td>80.653</td>\n",
       "      <td>33390141</td>\n",
       "      <td>36319.23501</td>\n",
       "      <td>CAN</td>\n",
       "      <td>124</td>\n",
       "    </tr>\n",
       "    <tr>\n",
       "      <th>...</th>\n",
       "      <td>...</td>\n",
       "      <td>...</td>\n",
       "      <td>...</td>\n",
       "      <td>...</td>\n",
       "      <td>...</td>\n",
       "      <td>...</td>\n",
       "      <td>...</td>\n",
       "    </tr>\n",
       "    <tr>\n",
       "      <th>Sweden</th>\n",
       "      <td>Europe</td>\n",
       "      <td>2007</td>\n",
       "      <td>80.884</td>\n",
       "      <td>9031088</td>\n",
       "      <td>33859.74835</td>\n",
       "      <td>SWE</td>\n",
       "      <td>752</td>\n",
       "    </tr>\n",
       "    <tr>\n",
       "      <th>Switzerland</th>\n",
       "      <td>Europe</td>\n",
       "      <td>2007</td>\n",
       "      <td>81.701</td>\n",
       "      <td>7554661</td>\n",
       "      <td>37506.41907</td>\n",
       "      <td>CHE</td>\n",
       "      <td>756</td>\n",
       "    </tr>\n",
       "  </tbody>\n",
       "</table>\n",
       "<p>13 rows × 7 columns</p>\n",
       "</div>"
      ],
      "text/plain": [
       "            continent  year  lifeExp       pop    gdpPercap iso_alpha  iso_num\n",
       "country                                                                       \n",
       "Australia     Oceania  2007   81.235  20434176  34435.36744       AUS       36\n",
       "Canada       Americas  2007   80.653  33390141  36319.23501       CAN      124\n",
       "...               ...   ...      ...       ...          ...       ...      ...\n",
       "Sweden         Europe  2007   80.884   9031088  33859.74835       SWE      752\n",
       "Switzerland    Europe  2007   81.701   7554661  37506.41907       CHE      756\n",
       "\n",
       "[13 rows x 7 columns]"
      ]
     },
     "execution_count": null,
     "metadata": {},
     "output_type": "execute_result"
    }
   ],
   "source": []
  },
  {
   "attachments": {},
   "cell_type": "markdown",
   "id": "1872a91a",
   "metadata": {
    "papermill": {
     "duration": 0.002031,
     "end_time": "2024-11-07T15:33:24.054009",
     "exception": false,
     "start_time": "2024-11-07T15:33:24.051978",
     "status": "completed"
    },
    "tags": []
   },
   "source": [
    "## Combine multiple conditions"
   ]
  },
  {
   "attachments": {},
   "cell_type": "markdown",
   "id": "17833b33-00da-47b9-aff6-0ec1d5ae1e0f",
   "metadata": {
    "papermill": {
     "duration": 0.002618,
     "end_time": "2024-11-07T15:33:24.058749",
     "exception": false,
     "start_time": "2024-11-07T15:33:24.056131",
     "status": "completed"
    },
    "tags": [
     "custom-exercise"
    ]
   },
   "source": [
    "**Exercise**: Filter countries from `Asia` and with `lifeExp greater than 80` years old."
   ]
  },
  {
   "attachments": {},
   "cell_type": "markdown",
   "id": "45236e47",
   "metadata": {
    "papermill": {
     "duration": 0.002606,
     "end_time": "2024-11-07T15:33:24.063847",
     "exception": false,
     "start_time": "2024-11-07T15:33:24.061241",
     "status": "completed"
    },
    "tags": []
   },
   "source": [
    "### Intersection\n",
    "\n",
    "```python\n",
    "mask = mask1 & mask2 # intersection (true on both conditions)\n",
    "```"
   ]
  },
  {
   "cell_type": "code",
   "execution_count": null,
   "id": "4ab0ba21-3533-4774-bc66-4574b708ba30",
   "metadata": {
    "execution": {
     "iopub.execute_input": "2024-11-07T15:33:24.069367Z",
     "iopub.status.busy": "2024-11-07T15:33:24.069239Z",
     "iopub.status.idle": "2024-11-07T15:33:24.073080Z",
     "shell.execute_reply": "2024-11-07T15:33:24.072861Z"
    },
    "papermill": {
     "duration": 0.007575,
     "end_time": "2024-11-07T15:33:24.073755",
     "exception": false,
     "start_time": "2024-11-07T15:33:24.066180",
     "status": "completed"
    },
    "tags": []
   },
   "outputs": [
    {
     "data": {
      "text/html": [
       "<div>\n",
       "<style scoped>\n",
       "    .dataframe tbody tr th:only-of-type {\n",
       "        vertical-align: middle;\n",
       "    }\n",
       "\n",
       "    .dataframe tbody tr th {\n",
       "        vertical-align: top;\n",
       "    }\n",
       "\n",
       "    .dataframe thead th {\n",
       "        text-align: right;\n",
       "    }\n",
       "</style>\n",
       "<table border=\"1\" class=\"dataframe\">\n",
       "  <thead>\n",
       "    <tr style=\"text-align: right;\">\n",
       "      <th></th>\n",
       "      <th>continent</th>\n",
       "      <th>year</th>\n",
       "      <th>lifeExp</th>\n",
       "      <th>pop</th>\n",
       "      <th>gdpPercap</th>\n",
       "      <th>iso_alpha</th>\n",
       "      <th>iso_num</th>\n",
       "    </tr>\n",
       "    <tr>\n",
       "      <th>country</th>\n",
       "      <th></th>\n",
       "      <th></th>\n",
       "      <th></th>\n",
       "      <th></th>\n",
       "      <th></th>\n",
       "      <th></th>\n",
       "      <th></th>\n",
       "    </tr>\n",
       "  </thead>\n",
       "  <tbody>\n",
       "    <tr>\n",
       "      <th>Hong Kong, China</th>\n",
       "      <td>Asia</td>\n",
       "      <td>2007</td>\n",
       "      <td>82.208</td>\n",
       "      <td>6980412</td>\n",
       "      <td>39724.97867</td>\n",
       "      <td>HKG</td>\n",
       "      <td>344</td>\n",
       "    </tr>\n",
       "    <tr>\n",
       "      <th>Israel</th>\n",
       "      <td>Asia</td>\n",
       "      <td>2007</td>\n",
       "      <td>80.745</td>\n",
       "      <td>6426679</td>\n",
       "      <td>25523.27710</td>\n",
       "      <td>ISR</td>\n",
       "      <td>376</td>\n",
       "    </tr>\n",
       "    <tr>\n",
       "      <th>Japan</th>\n",
       "      <td>Asia</td>\n",
       "      <td>2007</td>\n",
       "      <td>82.603</td>\n",
       "      <td>127467972</td>\n",
       "      <td>31656.06806</td>\n",
       "      <td>JPN</td>\n",
       "      <td>392</td>\n",
       "    </tr>\n",
       "  </tbody>\n",
       "</table>\n",
       "</div>"
      ],
      "text/plain": [
       "                 continent  year  lifeExp        pop    gdpPercap iso_alpha  \\\n",
       "country                                                                       \n",
       "Hong Kong, China      Asia  2007   82.208    6980412  39724.97867       HKG   \n",
       "Israel                Asia  2007   80.745    6426679  25523.27710       ISR   \n",
       "Japan                 Asia  2007   82.603  127467972  31656.06806       JPN   \n",
       "\n",
       "                  iso_num  \n",
       "country                    \n",
       "Hong Kong, China      344  \n",
       "Israel                376  \n",
       "Japan                 392  "
      ]
     },
     "execution_count": null,
     "metadata": {},
     "output_type": "execute_result"
    }
   ],
   "source": []
  },
  {
   "attachments": {},
   "cell_type": "markdown",
   "id": "c05c0433",
   "metadata": {
    "papermill": {
     "duration": 0.002151,
     "end_time": "2024-11-07T15:33:24.078116",
     "exception": false,
     "start_time": "2024-11-07T15:33:24.075965",
     "status": "completed"
    },
    "tags": []
   },
   "source": [
    "### Union\n",
    "\n",
    "```python\n",
    "mask = mask1 | mask2 # union (true on at least one condition)\n",
    "```"
   ]
  },
  {
   "cell_type": "code",
   "execution_count": null,
   "id": "83affaff",
   "metadata": {
    "execution": {
     "iopub.execute_input": "2024-11-07T15:33:24.083156Z",
     "iopub.status.busy": "2024-11-07T15:33:24.083020Z",
     "iopub.status.idle": "2024-11-07T15:33:24.086605Z",
     "shell.execute_reply": "2024-11-07T15:33:24.086382Z"
    },
    "papermill": {
     "duration": 0.00711,
     "end_time": "2024-11-07T15:33:24.087323",
     "exception": false,
     "start_time": "2024-11-07T15:33:24.080213",
     "status": "completed"
    },
    "tags": []
   },
   "outputs": [
    {
     "data": {
      "text/html": [
       "<div>\n",
       "<style scoped>\n",
       "    .dataframe tbody tr th:only-of-type {\n",
       "        vertical-align: middle;\n",
       "    }\n",
       "\n",
       "    .dataframe tbody tr th {\n",
       "        vertical-align: top;\n",
       "    }\n",
       "\n",
       "    .dataframe thead th {\n",
       "        text-align: right;\n",
       "    }\n",
       "</style>\n",
       "<table border=\"1\" class=\"dataframe\">\n",
       "  <thead>\n",
       "    <tr style=\"text-align: right;\">\n",
       "      <th></th>\n",
       "      <th>continent</th>\n",
       "      <th>year</th>\n",
       "      <th>lifeExp</th>\n",
       "      <th>pop</th>\n",
       "      <th>gdpPercap</th>\n",
       "      <th>iso_alpha</th>\n",
       "      <th>iso_num</th>\n",
       "    </tr>\n",
       "    <tr>\n",
       "      <th>country</th>\n",
       "      <th></th>\n",
       "      <th></th>\n",
       "      <th></th>\n",
       "      <th></th>\n",
       "      <th></th>\n",
       "      <th></th>\n",
       "      <th></th>\n",
       "    </tr>\n",
       "  </thead>\n",
       "  <tbody>\n",
       "    <tr>\n",
       "      <th>Afghanistan</th>\n",
       "      <td>Asia</td>\n",
       "      <td>2007</td>\n",
       "      <td>43.828</td>\n",
       "      <td>31889923</td>\n",
       "      <td>974.580338</td>\n",
       "      <td>AFG</td>\n",
       "      <td>4</td>\n",
       "    </tr>\n",
       "    <tr>\n",
       "      <th>Australia</th>\n",
       "      <td>Oceania</td>\n",
       "      <td>2007</td>\n",
       "      <td>81.235</td>\n",
       "      <td>20434176</td>\n",
       "      <td>34435.367440</td>\n",
       "      <td>AUS</td>\n",
       "      <td>36</td>\n",
       "    </tr>\n",
       "    <tr>\n",
       "      <th>...</th>\n",
       "      <td>...</td>\n",
       "      <td>...</td>\n",
       "      <td>...</td>\n",
       "      <td>...</td>\n",
       "      <td>...</td>\n",
       "      <td>...</td>\n",
       "      <td>...</td>\n",
       "    </tr>\n",
       "    <tr>\n",
       "      <th>West Bank and Gaza</th>\n",
       "      <td>Asia</td>\n",
       "      <td>2007</td>\n",
       "      <td>73.422</td>\n",
       "      <td>4018332</td>\n",
       "      <td>3025.349798</td>\n",
       "      <td>PSE</td>\n",
       "      <td>275</td>\n",
       "    </tr>\n",
       "    <tr>\n",
       "      <th>Yemen, Rep.</th>\n",
       "      <td>Asia</td>\n",
       "      <td>2007</td>\n",
       "      <td>62.698</td>\n",
       "      <td>22211743</td>\n",
       "      <td>2280.769906</td>\n",
       "      <td>YEM</td>\n",
       "      <td>887</td>\n",
       "    </tr>\n",
       "  </tbody>\n",
       "</table>\n",
       "<p>43 rows × 7 columns</p>\n",
       "</div>"
      ],
      "text/plain": [
       "                   continent  year  lifeExp       pop     gdpPercap iso_alpha  \\\n",
       "country                                                                         \n",
       "Afghanistan             Asia  2007   43.828  31889923    974.580338       AFG   \n",
       "Australia            Oceania  2007   81.235  20434176  34435.367440       AUS   \n",
       "...                      ...   ...      ...       ...           ...       ...   \n",
       "West Bank and Gaza      Asia  2007   73.422   4018332   3025.349798       PSE   \n",
       "Yemen, Rep.             Asia  2007   62.698  22211743   2280.769906       YEM   \n",
       "\n",
       "                    iso_num  \n",
       "country                      \n",
       "Afghanistan               4  \n",
       "Australia                36  \n",
       "...                     ...  \n",
       "West Bank and Gaza      275  \n",
       "Yemen, Rep.             887  \n",
       "\n",
       "[43 rows x 7 columns]"
      ]
     },
     "execution_count": null,
     "metadata": {},
     "output_type": "execute_result"
    }
   ],
   "source": []
  },
  {
   "cell_type": "markdown",
   "id": "903f323c",
   "metadata": {
    "papermill": {
     "duration": 0.002335,
     "end_time": "2024-11-07T15:33:24.092281",
     "exception": false,
     "start_time": "2024-11-07T15:33:24.089946",
     "status": "completed"
    },
    "tags": []
   },
   "source": [
    "## Bonus: df[mask] vs df.query"
   ]
  },
  {
   "cell_type": "markdown",
   "id": "96e8c421",
   "metadata": {
    "papermill": {
     "duration": 0.00215,
     "end_time": "2024-11-07T15:33:24.096842",
     "exception": false,
     "start_time": "2024-11-07T15:33:24.094692",
     "status": "completed"
    },
    "tags": []
   },
   "source": [
    "**Exercise**: Filter the year 2021."
   ]
  },
  {
   "cell_type": "code",
   "execution_count": null,
   "id": "b30ca31d",
   "metadata": {
    "execution": {
     "iopub.execute_input": "2024-11-07T15:33:24.101949Z",
     "iopub.status.busy": "2024-11-07T15:33:24.101678Z",
     "iopub.status.idle": "2024-11-07T15:33:24.217842Z",
     "shell.execute_reply": "2024-11-07T15:33:24.217577Z"
    },
    "papermill": {
     "duration": 0.11969,
     "end_time": "2024-11-07T15:33:24.218722",
     "exception": false,
     "start_time": "2024-11-07T15:33:24.099032",
     "status": "completed"
    },
    "tags": []
   },
   "outputs": [
    {
     "data": {
      "text/html": [
       "<div>\n",
       "<style scoped>\n",
       "    .dataframe tbody tr th:only-of-type {\n",
       "        vertical-align: middle;\n",
       "    }\n",
       "\n",
       "    .dataframe tbody tr th {\n",
       "        vertical-align: top;\n",
       "    }\n",
       "\n",
       "    .dataframe thead th {\n",
       "        text-align: right;\n",
       "    }\n",
       "</style>\n",
       "<table border=\"1\" class=\"dataframe\">\n",
       "  <thead>\n",
       "    <tr style=\"text-align: right;\">\n",
       "      <th></th>\n",
       "      <th>datetime</th>\n",
       "      <th>technology</th>\n",
       "      <th>year</th>\n",
       "      <th>month</th>\n",
       "      <th>day</th>\n",
       "      <th>hour</th>\n",
       "      <th>generation_mwh</th>\n",
       "    </tr>\n",
       "  </thead>\n",
       "  <tbody>\n",
       "    <tr>\n",
       "      <th>0</th>\n",
       "      <td>2019-01-01 00:00:00</td>\n",
       "      <td>Carbon</td>\n",
       "      <td>2019</td>\n",
       "      <td>1</td>\n",
       "      <td>1</td>\n",
       "      <td>0</td>\n",
       "      <td>1867.0</td>\n",
       "    </tr>\n",
       "    <tr>\n",
       "      <th>1</th>\n",
       "      <td>2019-01-01 01:00:00</td>\n",
       "      <td>Carbon</td>\n",
       "      <td>2019</td>\n",
       "      <td>1</td>\n",
       "      <td>1</td>\n",
       "      <td>1</td>\n",
       "      <td>1618.0</td>\n",
       "    </tr>\n",
       "    <tr>\n",
       "      <th>...</th>\n",
       "      <td>...</td>\n",
       "      <td>...</td>\n",
       "      <td>...</td>\n",
       "      <td>...</td>\n",
       "      <td>...</td>\n",
       "      <td>...</td>\n",
       "      <td>...</td>\n",
       "    </tr>\n",
       "    <tr>\n",
       "      <th>420862</th>\n",
       "      <td>2021-12-31 22:00:00</td>\n",
       "      <td>Other Renewables</td>\n",
       "      <td>2021</td>\n",
       "      <td>12</td>\n",
       "      <td>31</td>\n",
       "      <td>22</td>\n",
       "      <td>607.5</td>\n",
       "    </tr>\n",
       "    <tr>\n",
       "      <th>420863</th>\n",
       "      <td>2021-12-31 23:00:00</td>\n",
       "      <td>Other Renewables</td>\n",
       "      <td>2021</td>\n",
       "      <td>12</td>\n",
       "      <td>31</td>\n",
       "      <td>23</td>\n",
       "      <td>591.6</td>\n",
       "    </tr>\n",
       "  </tbody>\n",
       "</table>\n",
       "<p>420864 rows × 7 columns</p>\n",
       "</div>"
      ],
      "text/plain": [
       "                   datetime        technology  year  month  day  hour  \\\n",
       "0       2019-01-01 00:00:00            Carbon  2019      1    1     0   \n",
       "1       2019-01-01 01:00:00            Carbon  2019      1    1     1   \n",
       "...                     ...               ...   ...    ...  ...   ...   \n",
       "420862  2021-12-31 22:00:00  Other Renewables  2021     12   31    22   \n",
       "420863  2021-12-31 23:00:00  Other Renewables  2021     12   31    23   \n",
       "\n",
       "        generation_mwh  \n",
       "0               1867.0  \n",
       "1               1618.0  \n",
       "...                ...  \n",
       "420862           607.5  \n",
       "420863           591.6  \n",
       "\n",
       "[420864 rows x 7 columns]"
      ]
     },
     "execution_count": null,
     "metadata": {},
     "output_type": "execute_result"
    }
   ],
   "source": []
  },
  {
   "cell_type": "markdown",
   "id": "e6ac3ba1",
   "metadata": {
    "papermill": {
     "duration": 0.002484,
     "end_time": "2024-11-07T15:33:24.224235",
     "exception": false,
     "start_time": "2024-11-07T15:33:24.221751",
     "status": "completed"
    },
    "tags": []
   },
   "source": [
    "### Dummy"
   ]
  },
  {
   "cell_type": "code",
   "execution_count": null,
   "id": "013eb76f",
   "metadata": {
    "execution": {
     "iopub.execute_input": "2024-11-07T15:33:24.230468Z",
     "iopub.status.busy": "2024-11-07T15:33:24.230347Z",
     "iopub.status.idle": "2024-11-07T15:33:24.236806Z",
     "shell.execute_reply": "2024-11-07T15:33:24.236572Z"
    },
    "papermill": {
     "duration": 0.010774,
     "end_time": "2024-11-07T15:33:24.237530",
     "exception": false,
     "start_time": "2024-11-07T15:33:24.226756",
     "status": "completed"
    },
    "tags": []
   },
   "outputs": [
    {
     "data": {
      "text/html": [
       "<div>\n",
       "<style scoped>\n",
       "    .dataframe tbody tr th:only-of-type {\n",
       "        vertical-align: middle;\n",
       "    }\n",
       "\n",
       "    .dataframe tbody tr th {\n",
       "        vertical-align: top;\n",
       "    }\n",
       "\n",
       "    .dataframe thead th {\n",
       "        text-align: right;\n",
       "    }\n",
       "</style>\n",
       "<table border=\"1\" class=\"dataframe\">\n",
       "  <thead>\n",
       "    <tr style=\"text-align: right;\">\n",
       "      <th></th>\n",
       "      <th>datetime</th>\n",
       "      <th>technology</th>\n",
       "      <th>year</th>\n",
       "      <th>month</th>\n",
       "      <th>day</th>\n",
       "      <th>hour</th>\n",
       "      <th>generation_mwh</th>\n",
       "    </tr>\n",
       "  </thead>\n",
       "  <tbody>\n",
       "    <tr>\n",
       "      <th>17544</th>\n",
       "      <td>2021-01-01 00:00:00</td>\n",
       "      <td>Carbon</td>\n",
       "      <td>2021</td>\n",
       "      <td>1</td>\n",
       "      <td>1</td>\n",
       "      <td>0</td>\n",
       "      <td>250.0</td>\n",
       "    </tr>\n",
       "    <tr>\n",
       "      <th>17545</th>\n",
       "      <td>2021-01-01 01:00:00</td>\n",
       "      <td>Carbon</td>\n",
       "      <td>2021</td>\n",
       "      <td>1</td>\n",
       "      <td>1</td>\n",
       "      <td>1</td>\n",
       "      <td>250.0</td>\n",
       "    </tr>\n",
       "    <tr>\n",
       "      <th>...</th>\n",
       "      <td>...</td>\n",
       "      <td>...</td>\n",
       "      <td>...</td>\n",
       "      <td>...</td>\n",
       "      <td>...</td>\n",
       "      <td>...</td>\n",
       "      <td>...</td>\n",
       "    </tr>\n",
       "    <tr>\n",
       "      <th>420862</th>\n",
       "      <td>2021-12-31 22:00:00</td>\n",
       "      <td>Other Renewables</td>\n",
       "      <td>2021</td>\n",
       "      <td>12</td>\n",
       "      <td>31</td>\n",
       "      <td>22</td>\n",
       "      <td>607.5</td>\n",
       "    </tr>\n",
       "    <tr>\n",
       "      <th>420863</th>\n",
       "      <td>2021-12-31 23:00:00</td>\n",
       "      <td>Other Renewables</td>\n",
       "      <td>2021</td>\n",
       "      <td>12</td>\n",
       "      <td>31</td>\n",
       "      <td>23</td>\n",
       "      <td>591.6</td>\n",
       "    </tr>\n",
       "  </tbody>\n",
       "</table>\n",
       "<p>140160 rows × 7 columns</p>\n",
       "</div>"
      ],
      "text/plain": [
       "                   datetime        technology  year  month  day  hour  \\\n",
       "17544   2021-01-01 00:00:00            Carbon  2021      1    1     0   \n",
       "17545   2021-01-01 01:00:00            Carbon  2021      1    1     1   \n",
       "...                     ...               ...   ...    ...  ...   ...   \n",
       "420862  2021-12-31 22:00:00  Other Renewables  2021     12   31    22   \n",
       "420863  2021-12-31 23:00:00  Other Renewables  2021     12   31    23   \n",
       "\n",
       "        generation_mwh  \n",
       "17544            250.0  \n",
       "17545            250.0  \n",
       "...                ...  \n",
       "420862           607.5  \n",
       "420863           591.6  \n",
       "\n",
       "[140160 rows x 7 columns]"
      ]
     },
     "execution_count": null,
     "metadata": {},
     "output_type": "execute_result"
    }
   ],
   "source": []
  },
  {
   "cell_type": "markdown",
   "id": "e1944d6e",
   "metadata": {
    "papermill": {
     "duration": 0.003185,
     "end_time": "2024-11-07T15:33:24.243822",
     "exception": false,
     "start_time": "2024-11-07T15:33:24.240637",
     "status": "completed"
    },
    "tags": []
   },
   "source": [
    "### Proficient"
   ]
  },
  {
   "cell_type": "code",
   "execution_count": null,
   "id": "2d049be5",
   "metadata": {
    "execution": {
     "iopub.execute_input": "2024-11-07T15:33:24.250548Z",
     "iopub.status.busy": "2024-11-07T15:33:24.250445Z",
     "iopub.status.idle": "2024-11-07T15:33:24.259723Z",
     "shell.execute_reply": "2024-11-07T15:33:24.259487Z"
    },
    "papermill": {
     "duration": 0.013874,
     "end_time": "2024-11-07T15:33:24.260548",
     "exception": false,
     "start_time": "2024-11-07T15:33:24.246674",
     "status": "completed"
    },
    "tags": []
   },
   "outputs": [
    {
     "data": {
      "text/html": [
       "<div>\n",
       "<style scoped>\n",
       "    .dataframe tbody tr th:only-of-type {\n",
       "        vertical-align: middle;\n",
       "    }\n",
       "\n",
       "    .dataframe tbody tr th {\n",
       "        vertical-align: top;\n",
       "    }\n",
       "\n",
       "    .dataframe thead th {\n",
       "        text-align: right;\n",
       "    }\n",
       "</style>\n",
       "<table border=\"1\" class=\"dataframe\">\n",
       "  <thead>\n",
       "    <tr style=\"text-align: right;\">\n",
       "      <th></th>\n",
       "      <th>datetime</th>\n",
       "      <th>technology</th>\n",
       "      <th>year</th>\n",
       "      <th>month</th>\n",
       "      <th>day</th>\n",
       "      <th>hour</th>\n",
       "      <th>generation_mwh</th>\n",
       "    </tr>\n",
       "  </thead>\n",
       "  <tbody>\n",
       "    <tr>\n",
       "      <th>17544</th>\n",
       "      <td>2021-01-01 00:00:00</td>\n",
       "      <td>Carbon</td>\n",
       "      <td>2021</td>\n",
       "      <td>1</td>\n",
       "      <td>1</td>\n",
       "      <td>0</td>\n",
       "      <td>250.0</td>\n",
       "    </tr>\n",
       "    <tr>\n",
       "      <th>17545</th>\n",
       "      <td>2021-01-01 01:00:00</td>\n",
       "      <td>Carbon</td>\n",
       "      <td>2021</td>\n",
       "      <td>1</td>\n",
       "      <td>1</td>\n",
       "      <td>1</td>\n",
       "      <td>250.0</td>\n",
       "    </tr>\n",
       "    <tr>\n",
       "      <th>...</th>\n",
       "      <td>...</td>\n",
       "      <td>...</td>\n",
       "      <td>...</td>\n",
       "      <td>...</td>\n",
       "      <td>...</td>\n",
       "      <td>...</td>\n",
       "      <td>...</td>\n",
       "    </tr>\n",
       "    <tr>\n",
       "      <th>420862</th>\n",
       "      <td>2021-12-31 22:00:00</td>\n",
       "      <td>Other Renewables</td>\n",
       "      <td>2021</td>\n",
       "      <td>12</td>\n",
       "      <td>31</td>\n",
       "      <td>22</td>\n",
       "      <td>607.5</td>\n",
       "    </tr>\n",
       "    <tr>\n",
       "      <th>420863</th>\n",
       "      <td>2021-12-31 23:00:00</td>\n",
       "      <td>Other Renewables</td>\n",
       "      <td>2021</td>\n",
       "      <td>12</td>\n",
       "      <td>31</td>\n",
       "      <td>23</td>\n",
       "      <td>591.6</td>\n",
       "    </tr>\n",
       "  </tbody>\n",
       "</table>\n",
       "<p>140160 rows × 7 columns</p>\n",
       "</div>"
      ],
      "text/plain": [
       "                   datetime        technology  year  month  day  hour  \\\n",
       "17544   2021-01-01 00:00:00            Carbon  2021      1    1     0   \n",
       "17545   2021-01-01 01:00:00            Carbon  2021      1    1     1   \n",
       "...                     ...               ...   ...    ...  ...   ...   \n",
       "420862  2021-12-31 22:00:00  Other Renewables  2021     12   31    22   \n",
       "420863  2021-12-31 23:00:00  Other Renewables  2021     12   31    23   \n",
       "\n",
       "        generation_mwh  \n",
       "17544            250.0  \n",
       "17545            250.0  \n",
       "...                ...  \n",
       "420862           607.5  \n",
       "420863           591.6  \n",
       "\n",
       "[140160 rows x 7 columns]"
      ]
     },
     "execution_count": null,
     "metadata": {},
     "output_type": "execute_result"
    }
   ],
   "source": []
  },
  {
   "cell_type": "markdown",
   "id": "2caf785f",
   "metadata": {
    "papermill": {
     "duration": 0.00288,
     "end_time": "2024-11-07T15:33:24.266104",
     "exception": false,
     "start_time": "2024-11-07T15:33:24.263224",
     "status": "completed"
    },
    "tags": []
   },
   "source": [
    "## Query with multiple conditions"
   ]
  },
  {
   "cell_type": "markdown",
   "id": "02921f93",
   "metadata": {
    "papermill": {
     "duration": 0.002382,
     "end_time": "2024-11-07T15:33:24.271363",
     "exception": false,
     "start_time": "2024-11-07T15:33:24.268981",
     "status": "completed"
    },
    "tags": []
   },
   "source": [
    "**Exercise**: Filter the year `2021` and `Eolic` technology."
   ]
  },
  {
   "cell_type": "markdown",
   "id": "f3dd05f4",
   "metadata": {
    "papermill": {
     "duration": 0.003121,
     "end_time": "2024-11-07T15:33:24.277523",
     "exception": false,
     "start_time": "2024-11-07T15:33:24.274402",
     "status": "completed"
    },
    "tags": []
   },
   "source": [
    "### Dummy"
   ]
  },
  {
   "cell_type": "code",
   "execution_count": null,
   "id": "7ad10fd9",
   "metadata": {
    "execution": {
     "iopub.execute_input": "2024-11-07T15:33:24.284559Z",
     "iopub.status.busy": "2024-11-07T15:33:24.284329Z",
     "iopub.status.idle": "2024-11-07T15:33:24.299830Z",
     "shell.execute_reply": "2024-11-07T15:33:24.299593Z"
    },
    "papermill": {
     "duration": 0.020476,
     "end_time": "2024-11-07T15:33:24.300585",
     "exception": false,
     "start_time": "2024-11-07T15:33:24.280109",
     "status": "completed"
    },
    "tags": []
   },
   "outputs": [
    {
     "data": {
      "text/html": [
       "<div>\n",
       "<style scoped>\n",
       "    .dataframe tbody tr th:only-of-type {\n",
       "        vertical-align: middle;\n",
       "    }\n",
       "\n",
       "    .dataframe tbody tr th {\n",
       "        vertical-align: top;\n",
       "    }\n",
       "\n",
       "    .dataframe thead th {\n",
       "        text-align: right;\n",
       "    }\n",
       "</style>\n",
       "<table border=\"1\" class=\"dataframe\">\n",
       "  <thead>\n",
       "    <tr style=\"text-align: right;\">\n",
       "      <th></th>\n",
       "      <th>datetime</th>\n",
       "      <th>technology</th>\n",
       "      <th>year</th>\n",
       "      <th>month</th>\n",
       "      <th>day</th>\n",
       "      <th>hour</th>\n",
       "      <th>generation_mwh</th>\n",
       "    </tr>\n",
       "  </thead>\n",
       "  <tbody>\n",
       "    <tr>\n",
       "      <th>122760</th>\n",
       "      <td>2021-01-01 00:00:00</td>\n",
       "      <td>Eolic</td>\n",
       "      <td>2021</td>\n",
       "      <td>1</td>\n",
       "      <td>1</td>\n",
       "      <td>0</td>\n",
       "      <td>8557.5</td>\n",
       "    </tr>\n",
       "    <tr>\n",
       "      <th>122761</th>\n",
       "      <td>2021-01-01 01:00:00</td>\n",
       "      <td>Eolic</td>\n",
       "      <td>2021</td>\n",
       "      <td>1</td>\n",
       "      <td>1</td>\n",
       "      <td>1</td>\n",
       "      <td>8661.6</td>\n",
       "    </tr>\n",
       "    <tr>\n",
       "      <th>...</th>\n",
       "      <td>...</td>\n",
       "      <td>...</td>\n",
       "      <td>...</td>\n",
       "      <td>...</td>\n",
       "      <td>...</td>\n",
       "      <td>...</td>\n",
       "      <td>...</td>\n",
       "    </tr>\n",
       "    <tr>\n",
       "      <th>131518</th>\n",
       "      <td>2021-12-31 22:00:00</td>\n",
       "      <td>Eolic</td>\n",
       "      <td>2021</td>\n",
       "      <td>12</td>\n",
       "      <td>31</td>\n",
       "      <td>22</td>\n",
       "      <td>6081.8</td>\n",
       "    </tr>\n",
       "    <tr>\n",
       "      <th>131519</th>\n",
       "      <td>2021-12-31 23:00:00</td>\n",
       "      <td>Eolic</td>\n",
       "      <td>2021</td>\n",
       "      <td>12</td>\n",
       "      <td>31</td>\n",
       "      <td>23</td>\n",
       "      <td>6255.3</td>\n",
       "    </tr>\n",
       "  </tbody>\n",
       "</table>\n",
       "<p>8760 rows × 7 columns</p>\n",
       "</div>"
      ],
      "text/plain": [
       "                   datetime technology  year  month  day  hour  generation_mwh\n",
       "122760  2021-01-01 00:00:00      Eolic  2021      1    1     0          8557.5\n",
       "122761  2021-01-01 01:00:00      Eolic  2021      1    1     1          8661.6\n",
       "...                     ...        ...   ...    ...  ...   ...             ...\n",
       "131518  2021-12-31 22:00:00      Eolic  2021     12   31    22          6081.8\n",
       "131519  2021-12-31 23:00:00      Eolic  2021     12   31    23          6255.3\n",
       "\n",
       "[8760 rows x 7 columns]"
      ]
     },
     "execution_count": null,
     "metadata": {},
     "output_type": "execute_result"
    }
   ],
   "source": []
  },
  {
   "cell_type": "markdown",
   "id": "73bcc994",
   "metadata": {
    "papermill": {
     "duration": 0.002698,
     "end_time": "2024-11-07T15:33:24.305975",
     "exception": false,
     "start_time": "2024-11-07T15:33:24.303277",
     "status": "completed"
    },
    "tags": []
   },
   "source": [
    "### Proficient"
   ]
  },
  {
   "cell_type": "code",
   "execution_count": null,
   "id": "84371810",
   "metadata": {
    "execution": {
     "iopub.execute_input": "2024-11-07T15:33:24.311826Z",
     "iopub.status.busy": "2024-11-07T15:33:24.311716Z",
     "iopub.status.idle": "2024-11-07T15:33:24.321072Z",
     "shell.execute_reply": "2024-11-07T15:33:24.320842Z"
    },
    "papermill": {
     "duration": 0.013324,
     "end_time": "2024-11-07T15:33:24.321793",
     "exception": false,
     "start_time": "2024-11-07T15:33:24.308469",
     "status": "completed"
    },
    "tags": []
   },
   "outputs": [
    {
     "data": {
      "text/html": [
       "<div>\n",
       "<style scoped>\n",
       "    .dataframe tbody tr th:only-of-type {\n",
       "        vertical-align: middle;\n",
       "    }\n",
       "\n",
       "    .dataframe tbody tr th {\n",
       "        vertical-align: top;\n",
       "    }\n",
       "\n",
       "    .dataframe thead th {\n",
       "        text-align: right;\n",
       "    }\n",
       "</style>\n",
       "<table border=\"1\" class=\"dataframe\">\n",
       "  <thead>\n",
       "    <tr style=\"text-align: right;\">\n",
       "      <th></th>\n",
       "      <th>datetime</th>\n",
       "      <th>technology</th>\n",
       "      <th>year</th>\n",
       "      <th>month</th>\n",
       "      <th>day</th>\n",
       "      <th>hour</th>\n",
       "      <th>generation_mwh</th>\n",
       "    </tr>\n",
       "  </thead>\n",
       "  <tbody>\n",
       "    <tr>\n",
       "      <th>122760</th>\n",
       "      <td>2021-01-01 00:00:00</td>\n",
       "      <td>Eolic</td>\n",
       "      <td>2021</td>\n",
       "      <td>1</td>\n",
       "      <td>1</td>\n",
       "      <td>0</td>\n",
       "      <td>8557.5</td>\n",
       "    </tr>\n",
       "    <tr>\n",
       "      <th>122761</th>\n",
       "      <td>2021-01-01 01:00:00</td>\n",
       "      <td>Eolic</td>\n",
       "      <td>2021</td>\n",
       "      <td>1</td>\n",
       "      <td>1</td>\n",
       "      <td>1</td>\n",
       "      <td>8661.6</td>\n",
       "    </tr>\n",
       "    <tr>\n",
       "      <th>...</th>\n",
       "      <td>...</td>\n",
       "      <td>...</td>\n",
       "      <td>...</td>\n",
       "      <td>...</td>\n",
       "      <td>...</td>\n",
       "      <td>...</td>\n",
       "      <td>...</td>\n",
       "    </tr>\n",
       "    <tr>\n",
       "      <th>131518</th>\n",
       "      <td>2021-12-31 22:00:00</td>\n",
       "      <td>Eolic</td>\n",
       "      <td>2021</td>\n",
       "      <td>12</td>\n",
       "      <td>31</td>\n",
       "      <td>22</td>\n",
       "      <td>6081.8</td>\n",
       "    </tr>\n",
       "    <tr>\n",
       "      <th>131519</th>\n",
       "      <td>2021-12-31 23:00:00</td>\n",
       "      <td>Eolic</td>\n",
       "      <td>2021</td>\n",
       "      <td>12</td>\n",
       "      <td>31</td>\n",
       "      <td>23</td>\n",
       "      <td>6255.3</td>\n",
       "    </tr>\n",
       "  </tbody>\n",
       "</table>\n",
       "<p>8760 rows × 7 columns</p>\n",
       "</div>"
      ],
      "text/plain": [
       "                   datetime technology  year  month  day  hour  generation_mwh\n",
       "122760  2021-01-01 00:00:00      Eolic  2021      1    1     0          8557.5\n",
       "122761  2021-01-01 01:00:00      Eolic  2021      1    1     1          8661.6\n",
       "...                     ...        ...   ...    ...  ...   ...             ...\n",
       "131518  2021-12-31 22:00:00      Eolic  2021     12   31    22          6081.8\n",
       "131519  2021-12-31 23:00:00      Eolic  2021     12   31    23          6255.3\n",
       "\n",
       "[8760 rows x 7 columns]"
      ]
     },
     "execution_count": null,
     "metadata": {},
     "output_type": "execute_result"
    }
   ],
   "source": []
  }
 ],
 "metadata": {
  "kernelspec": {
   "display_name": "Python 3 (ipykernel)",
   "language": "python",
   "name": "python3"
  },
  "language_info": {
   "codemirror_mode": {
    "name": "ipython",
    "version": 3
   },
   "file_extension": ".py",
   "mimetype": "text/x-python",
   "name": "python",
   "nbconvert_exporter": "python",
   "pygments_lexer": "ipython3",
   "version": "3.12.3"
  },
  "papermill": {
   "default_parameters": {},
   "duration": 1.490969,
   "end_time": "2024-11-07T15:33:24.541388",
   "environment_variables": {},
   "exception": null,
   "input_path": "/Users/sota/Library/CloudStorage/Dropbox-datons/Training/2 Areas/Course Repos GitHub/repos/dev/DF/workbook/30_Filter/1_Conditionals/1C_Options.ipynb",
   "output_path": "/Users/sota/Library/CloudStorage/Dropbox-datons/Training/2 Areas/Course Repos GitHub/repos/dev/DF/workbook/30_Filter/1_Conditionals/1C_Options.ipynb",
   "parameters": {},
   "start_time": "2024-11-07T15:33:23.050419",
   "version": "2.5.0"
  }
 },
 "nbformat": 4,
 "nbformat_minor": 5
}
